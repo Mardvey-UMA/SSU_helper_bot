{
 "cells": [
  {
   "cell_type": "code",
   "execution_count": 1,
   "metadata": {},
   "outputs": [],
   "source": [
    "import spacy\n",
    "from spacy import displacy\n",
    "import re"
   ]
  },
  {
   "cell_type": "code",
   "execution_count": 2,
   "metadata": {},
   "outputs": [],
   "source": [
    "nlp = spacy.load(\"ru_core_news_md\")"
   ]
  },
  {
   "cell_type": "code",
   "execution_count": 14,
   "metadata": {},
   "outputs": [],
   "source": [
    "def extract_entities(text):\n",
    "    doc = nlp(text)\n",
    "\n",
    "    surnames = [ent.text for ent in doc.ents if ent.label_ == 'PER']\n",
    "    group_numbers = re.findall(r'\\b\\d{3}\\b', text)\n",
    "\n",
    "    highlighted_text = text\n",
    "    for surname in surnames:\n",
    "        highlighted_text = re.sub(fr'\\b{surname}\\b', f'**{surname}**', highlighted_text)\n",
    "    for number in group_numbers:\n",
    "        highlighted_text = re.sub(fr'\\b{number}\\b', f'**{number}**', highlighted_text)\n",
    "    \n",
    "    return highlighted_text"
   ]
  },
  {
   "cell_type": "code",
   "execution_count": 21,
   "metadata": {},
   "outputs": [
    {
     "name": "stdout",
     "output_type": "stream",
     "text": [
      "Расписание **241** **Огнева**\n"
     ]
    }
   ],
   "source": [
    "text = \"Расписание 241 Огнева\"\n",
    "\n",
    "highlighted_text = extract_entities(text)\n",
    "print(highlighted_text)"
   ]
  }
 ],
 "metadata": {
  "kernelspec": {
   "display_name": "env",
   "language": "python",
   "name": "python3"
  },
  "language_info": {
   "codemirror_mode": {
    "name": "ipython",
    "version": 3
   },
   "file_extension": ".py",
   "mimetype": "text/x-python",
   "name": "python",
   "nbconvert_exporter": "python",
   "pygments_lexer": "ipython3",
   "version": "3.9.5"
  }
 },
 "nbformat": 4,
 "nbformat_minor": 2
}
