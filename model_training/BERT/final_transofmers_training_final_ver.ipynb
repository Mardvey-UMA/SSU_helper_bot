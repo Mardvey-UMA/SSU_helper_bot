{
 "cells": [
  {
   "cell_type": "code",
   "execution_count": null,
   "id": "stgeMsBAlqwl",
   "metadata": {
    "colab": {
     "base_uri": "https://localhost:8080/"
    },
    "id": "stgeMsBAlqwl",
    "outputId": "619ebcd6-d2f4-4ffd-839e-bb00a5ebf9a2",
    "tags": []
   },
   "outputs": [],
   "source": [
    "#!pip install transformers[torch]"
   ]
  },
  {
   "cell_type": "code",
   "execution_count": null,
   "id": "b299nD-6lt9n",
   "metadata": {
    "colab": {
     "base_uri": "https://localhost:8080/"
    },
    "id": "b299nD-6lt9n",
    "outputId": "0fbdd092-6310-426f-8e6e-baeb27c6f28e",
    "tags": []
   },
   "outputs": [],
   "source": [
    "#%pip install accelerate -U"
   ]
  },
  {
   "cell_type": "code",
   "execution_count": null,
   "id": "U85sbWFIlvf_",
   "metadata": {
    "colab": {
     "base_uri": "https://localhost:8080/"
    },
    "id": "U85sbWFIlvf_",
    "outputId": "ba26daf2-4011-4f59-a68c-e9adc212aa40",
    "tags": []
   },
   "outputs": [],
   "source": [
    "#%pip install --upgrade transformers"
   ]
  },
  {
   "cell_type": "code",
   "execution_count": null,
   "id": "ylg7GkLUlykj",
   "metadata": {
    "colab": {
     "base_uri": "https://localhost:8080/"
    },
    "id": "ylg7GkLUlykj",
    "outputId": "04dbaa7e-9442-4572-cb86-d8f51a3f40df",
    "tags": []
   },
   "outputs": [],
   "source": [
    "#%pip install --upgrade torch"
   ]
  },
  {
   "cell_type": "code",
   "execution_count": null,
   "id": "vtPjLvMsl1p9",
   "metadata": {
    "colab": {
     "base_uri": "https://localhost:8080/"
    },
    "id": "vtPjLvMsl1p9",
    "outputId": "cda427ac-c4e4-43a5-88c2-bc758985a6d5",
    "tags": []
   },
   "outputs": [],
   "source": [
    "#%pip install --upgrade accelerate"
   ]
  },
  {
   "cell_type": "code",
   "execution_count": null,
   "id": "DEa1hhmlrRcK",
   "metadata": {
    "colab": {
     "base_uri": "https://localhost:8080/"
    },
    "id": "DEa1hhmlrRcK",
    "outputId": "528d2e74-011c-4040-8b9d-93744c287fb5",
    "tags": []
   },
   "outputs": [],
   "source": [
    "#%pip install datasets"
   ]
  },
  {
   "cell_type": "code",
   "execution_count": 1,
   "id": "e6751737-51a6-414f-84f5-cfd8bc4e807c",
   "metadata": {
    "execution": {
     "iopub.execute_input": "2024-05-26T17:47:10.126090Z",
     "iopub.status.busy": "2024-05-26T17:47:10.124974Z",
     "iopub.status.idle": "2024-05-26T17:48:02.745547Z",
     "shell.execute_reply": "2024-05-26T17:48:02.744337Z",
     "shell.execute_reply.started": "2024-05-26T17:47:10.126057Z"
    },
    "id": "e6751737-51a6-414f-84f5-cfd8bc4e807c",
    "tags": []
   },
   "outputs": [
    {
     "name": "stderr",
     "output_type": "stream",
     "text": [
      "/home/jupyter/.local/lib/python3.10/site-packages/transformers/utils/hub.py:124: FutureWarning: Using `TRANSFORMERS_CACHE` is deprecated and will be removed in v5 of Transformers. Use `HF_HOME` instead.\n",
      "  warnings.warn(\n",
      "2024-05-26 17:47:49.608800: I tensorflow/core/platform/cpu_feature_guard.cc:182] This TensorFlow binary is optimized to use available CPU instructions in performance-critical operations.\n",
      "To enable the following instructions: AVX2 FMA, in other operations, rebuild TensorFlow with the appropriate compiler flags.\n",
      "2024-05-26 17:47:53.776833: W tensorflow/compiler/tf2tensorrt/utils/py_utils.cc:38] TF-TRT Warning: Could not find TensorRT\n"
     ]
    }
   ],
   "source": [
    "# Импорт необходимых библиотек\n",
    "import numpy as np\n",
    "import pandas as pd\n",
    "import seaborn as sns\n",
    "from matplotlib import pyplot as plt\n",
    "from sklearn.utils import shuffle\n",
    "import re\n",
    "import torch\n",
    "from transformers import BertTokenizer, BertForSequenceClassification, Trainer, TrainingArguments, pipeline, DataCollatorWithPadding\n",
    "from datasets import Dataset\n",
    "from sklearn.utils.class_weight import compute_class_weight\n",
    "from sklearn.metrics import classification_report, confusion_matrix\n",
    "import warnings\n",
    "warnings.filterwarnings('ignore')"
   ]
  },
  {
   "cell_type": "code",
   "execution_count": 2,
   "id": "97d2464d-ff9f-4766-a61e-6db77db4469a",
   "metadata": {
    "execution": {
     "iopub.execute_input": "2024-05-26T17:48:06.307388Z",
     "iopub.status.busy": "2024-05-26T17:48:06.306276Z",
     "iopub.status.idle": "2024-05-26T17:48:06.322493Z",
     "shell.execute_reply": "2024-05-26T17:48:06.321322Z",
     "shell.execute_reply.started": "2024-05-26T17:48:06.307335Z"
    },
    "tags": []
   },
   "outputs": [],
   "source": [
    "# Включение отладки CUDA\n",
    "import os\n",
    "os.environ[\"CUDA_LAUNCH_BLOCKING\"] = \"1\""
   ]
  },
  {
   "cell_type": "code",
   "execution_count": 3,
   "id": "4867912b-442c-4238-aa20-e5c8d8ba04a3",
   "metadata": {
    "execution": {
     "iopub.execute_input": "2024-05-26T17:48:07.077572Z",
     "iopub.status.busy": "2024-05-26T17:48:07.076250Z",
     "iopub.status.idle": "2024-05-26T17:48:07.189034Z",
     "shell.execute_reply": "2024-05-26T17:48:07.187506Z",
     "shell.execute_reply.started": "2024-05-26T17:48:07.077535Z"
    },
    "id": "4867912b-442c-4238-aa20-e5c8d8ba04a3",
    "tags": []
   },
   "outputs": [],
   "source": [
    "# Загрузка данных\n",
    "train_data_path = '/home/jupyter/datasphere/project/data_sets/fbdataset_train.tsv'\n",
    "test_data_path = '/home/jupyter/datasphere/project/data_sets/fbdataset_test.tsv'\n",
    "\n",
    "train_data = pd.read_csv(train_data_path, sep='\\t')\n",
    "test_data = pd.read_csv(test_data_path, sep='\\t')\n",
    "\n",
    "train_data = shuffle(train_data, random_state=42)\n",
    "train_data.reset_index(drop=True, inplace=True)\n",
    "test_data = shuffle(test_data, random_state=42)\n",
    "test_data.reset_index(drop=True, inplace=True)"
   ]
  },
  {
   "cell_type": "code",
   "execution_count": 4,
   "id": "39796c73-baa2-42aa-b4dc-a8bb640726a9",
   "metadata": {
    "execution": {
     "iopub.execute_input": "2024-05-26T17:48:07.863023Z",
     "iopub.status.busy": "2024-05-26T17:48:07.861850Z",
     "iopub.status.idle": "2024-05-26T17:48:07.878410Z",
     "shell.execute_reply": "2024-05-26T17:48:07.877240Z",
     "shell.execute_reply.started": "2024-05-26T17:48:07.862970Z"
    },
    "tags": []
   },
   "outputs": [],
   "source": [
    "def preprocess_text(text):\n",
    "    text = text.lower()\n",
    "    text = re.sub(r'\\d+', '', text)\n",
    "    text = re.sub(r'[^\\w\\s]', '', text)\n",
    "    text = re.sub(r'\\s+', ' ', text).strip()\n",
    "    return text"
   ]
  },
  {
   "cell_type": "code",
   "execution_count": 5,
   "id": "843f7fa4-1084-4f1e-87d4-685f0cf0c382",
   "metadata": {
    "execution": {
     "iopub.execute_input": "2024-05-26T17:48:08.592322Z",
     "iopub.status.busy": "2024-05-26T17:48:08.590578Z",
     "iopub.status.idle": "2024-05-26T17:48:08.662777Z",
     "shell.execute_reply": "2024-05-26T17:48:08.661595Z",
     "shell.execute_reply.started": "2024-05-26T17:48:08.592265Z"
    },
    "tags": []
   },
   "outputs": [],
   "source": [
    "train_data['text'] = train_data['text'].apply(preprocess_text)\n",
    "test_data['text'] = test_data['text'].apply(preprocess_text)"
   ]
  },
  {
   "cell_type": "code",
   "execution_count": 6,
   "id": "0c5857de-5c06-42ae-8f1c-4c4018e7682b",
   "metadata": {
    "colab": {
     "base_uri": "https://localhost:8080/",
     "height": 795
    },
    "execution": {
     "iopub.execute_input": "2024-05-26T17:48:09.257160Z",
     "iopub.status.busy": "2024-05-26T17:48:09.255533Z",
     "iopub.status.idle": "2024-05-26T17:48:09.629665Z",
     "shell.execute_reply": "2024-05-26T17:48:09.628577Z",
     "shell.execute_reply.started": "2024-05-26T17:48:09.257103Z"
    },
    "id": "0c5857de-5c06-42ae-8f1c-4c4018e7682b",
    "outputId": "690ae403-bf35-45a1-ae37-4361cf232e1a",
    "tags": []
   },
   "outputs": [
    {
     "data": {
      "text/plain": [
       "(array([0, 1, 2, 3, 4, 5, 6, 7, 8, 9]),\n",
       " [Text(0, 0, 'loc'),\n",
       "  Text(1, 0, 'finassist'),\n",
       "  Text(2, 0, 'pay'),\n",
       "  Text(3, 0, 'dorm'),\n",
       "  Text(4, 0, 'schedule'),\n",
       "  Text(5, 0, 'military'),\n",
       "  Text(6, 0, 'events'),\n",
       "  Text(7, 0, 'statement_general'),\n",
       "  Text(8, 0, 'holidays'),\n",
       "  Text(9, 0, 'grade')])"
      ]
     },
     "execution_count": 6,
     "metadata": {},
     "output_type": "execute_result"
    },
    {
     "data": {
      "image/png": "[encoded data removed]",
      "text/plain": [
       "<Figure size 640x480 with 1 Axes>"
      ]
     },
     "metadata": {},
     "output_type": "display_data"
    }
   ],
   "source": [
    "plt.figure\n",
    "sns.countplot(data = train_data, x = 'label')\n",
    "plt.title(\"Распределение классов тренировочный дс\")\n",
    "plt.tight_layout()\n",
    "plt.xticks(rotation=90)"
   ]
  },
  {
   "cell_type": "code",
   "execution_count": 7,
   "id": "35430481-a09d-4a5f-a0b7-a5032c4d563d",
   "metadata": {
    "execution": {
     "iopub.execute_input": "2024-05-26T17:48:10.102159Z",
     "iopub.status.busy": "2024-05-26T17:48:10.100954Z",
     "iopub.status.idle": "2024-05-26T17:48:10.119163Z",
     "shell.execute_reply": "2024-05-26T17:48:10.118018Z",
     "shell.execute_reply.started": "2024-05-26T17:48:10.102115Z"
    },
    "id": "35430481-a09d-4a5f-a0b7-a5032c4d563d",
    "tags": []
   },
   "outputs": [],
   "source": [
    "# Определение словарей меток\n",
    "LabelDict = {\n",
    "    0: 'statement_general',\n",
    "    1: 'dorm',\n",
    "    2: 'events',\n",
    "    3: 'finassist',\n",
    "    4: 'grade',\n",
    "    5: 'loc',\n",
    "    6: 'military',\n",
    "    7: 'holidays',\n",
    "    8: 'pay',\n",
    "    9: 'schedule',\n",
    "}\n",
    "ReplaceDict = {\n",
    "    \"statement_general\": 0,\n",
    "    \"dorm\": 1,\n",
    "    \"events\": 2,\n",
    "    \"finassist\": 3,\n",
    "    \"grade\": 4,\n",
    "    \"loc\": 5,\n",
    "    \"military\": 6,\n",
    "    \"holidays\": 7,\n",
    "    \"pay\": 8,\n",
    "    \"schedule\": 9,\n",
    "}"
   ]
  },
  {
   "cell_type": "code",
   "execution_count": 8,
   "id": "3e21cf4a-d126-41b1-bc77-1c95910b5459",
   "metadata": {
    "execution": {
     "iopub.execute_input": "2024-05-26T17:48:11.033609Z",
     "iopub.status.busy": "2024-05-26T17:48:11.032142Z",
     "iopub.status.idle": "2024-05-26T17:48:11.073663Z",
     "shell.execute_reply": "2024-05-26T17:48:11.072527Z",
     "shell.execute_reply.started": "2024-05-26T17:48:11.033554Z"
    },
    "id": "3e21cf4a-d126-41b1-bc77-1c95910b5459",
    "tags": []
   },
   "outputs": [],
   "source": [
    "train_data[\"label\"] = train_data[\"label\"].replace(ReplaceDict)\n",
    "test_data[\"label\"] = test_data[\"label\"].replace(ReplaceDict)"
   ]
  },
  {
   "cell_type": "code",
   "execution_count": 9,
   "id": "25ab1515-d201-4343-9ed0-cacb714f45d6",
   "metadata": {
    "execution": {
     "iopub.execute_input": "2024-05-26T17:48:11.686991Z",
     "iopub.status.busy": "2024-05-26T17:48:11.685303Z",
     "iopub.status.idle": "2024-05-26T17:48:11.716136Z",
     "shell.execute_reply": "2024-05-26T17:48:11.714914Z",
     "shell.execute_reply.started": "2024-05-26T17:48:11.686914Z"
    },
    "tags": []
   },
   "outputs": [
    {
     "name": "stdout",
     "output_type": "stream",
     "text": [
      "Уникальные значения меток в обучающем наборе: [5 3 8 1 9 6 2 0 7 4]\n",
      "Уникальные значения меток в тестовом наборе: [ 5.  3.  9.  1.  0.  2.  8.  4.  6. nan  7.]\n"
     ]
    }
   ],
   "source": [
    "# Проверка уникальных значений меток\n",
    "print(\"Уникальные значения меток в обучающем наборе:\", train_data[\"label\"].unique())\n",
    "print(\"Уникальные значения меток в тестовом наборе:\", test_data[\"label\"].unique())"
   ]
  },
  {
   "cell_type": "code",
   "execution_count": 10,
   "id": "a1bf4007-7632-4124-b833-49937dc37ba6",
   "metadata": {
    "execution": {
     "iopub.execute_input": "2024-05-26T17:48:12.408889Z",
     "iopub.status.busy": "2024-05-26T17:48:12.407827Z",
     "iopub.status.idle": "2024-05-26T17:48:12.430163Z",
     "shell.execute_reply": "2024-05-26T17:48:12.429076Z",
     "shell.execute_reply.started": "2024-05-26T17:48:12.408853Z"
    },
    "tags": []
   },
   "outputs": [],
   "source": [
    "# Удаление строк с NaN значениями в метках\n",
    "train_data.dropna(subset=[\"label\"], inplace=True)\n",
    "test_data.dropna(subset=[\"label\"], inplace=True)\n",
    "\n",
    "# Преобразование меток в целочисленный формат\n",
    "train_data[\"label\"] = train_data[\"label\"].astype(int)\n",
    "test_data[\"label\"] = test_data[\"label\"].astype(int)"
   ]
  },
  {
   "cell_type": "code",
   "execution_count": 11,
   "id": "3c6980c7-12c9-41f1-8ea7-769bb4d70410",
   "metadata": {
    "execution": {
     "iopub.execute_input": "2024-05-26T17:48:13.324468Z",
     "iopub.status.busy": "2024-05-26T17:48:13.323222Z",
     "iopub.status.idle": "2024-05-26T17:48:13.344750Z",
     "shell.execute_reply": "2024-05-26T17:48:13.343665Z",
     "shell.execute_reply.started": "2024-05-26T17:48:13.324417Z"
    },
    "tags": []
   },
   "outputs": [
    {
     "name": "stdout",
     "output_type": "stream",
     "text": [
      "Уникальные значения меток в обучающем наборе: [5 3 8 1 9 6 2 0 7 4]\n",
      "Уникальные значения меток в тестовом наборе: [5 3 9 1 0 2 8 4 6 7]\n"
     ]
    }
   ],
   "source": [
    "# Проверка уникальных значений меток\n",
    "print(\"Уникальные значения меток в обучающем наборе:\", train_data[\"label\"].unique())\n",
    "print(\"Уникальные значения меток в тестовом наборе:\", test_data[\"label\"].unique())"
   ]
  },
  {
   "cell_type": "code",
   "execution_count": 12,
   "id": "e587e61f-08c8-47d5-9a0b-6368a967ee13",
   "metadata": {
    "execution": {
     "iopub.execute_input": "2024-05-26T17:48:14.379953Z",
     "iopub.status.busy": "2024-05-26T17:48:14.378556Z",
     "iopub.status.idle": "2024-05-26T17:48:14.397921Z",
     "shell.execute_reply": "2024-05-26T17:48:14.396646Z",
     "shell.execute_reply.started": "2024-05-26T17:48:14.379902Z"
    },
    "id": "e587e61f-08c8-47d5-9a0b-6368a967ee13",
    "tags": []
   },
   "outputs": [],
   "source": [
    "# Функции для обработки данных и визуализации\n",
    "def convert_to_dataset(data, tokenizer, max_len=128):\n",
    "    texts = data['text'].tolist()\n",
    "    labels = data['label'].tolist()\n",
    "    encodings = tokenizer(texts, truncation=True, padding=True, max_length=max_len)\n",
    "    dataset = Dataset.from_dict({\n",
    "        'input_ids': encodings['input_ids'],\n",
    "        'attention_mask': encodings['attention_mask'],\n",
    "        'labels': torch.tensor(labels).long()\n",
    "    })\n",
    "    return dataset, labels"
   ]
  },
  {
   "cell_type": "code",
   "execution_count": 13,
   "id": "e13ea9b3-0246-4e60-bcce-a2cfdd8e3bbf",
   "metadata": {
    "execution": {
     "iopub.execute_input": "2024-05-26T17:48:15.110511Z",
     "iopub.status.busy": "2024-05-26T17:48:15.109818Z",
     "iopub.status.idle": "2024-05-26T17:48:15.184902Z",
     "shell.execute_reply": "2024-05-26T17:48:15.183527Z",
     "shell.execute_reply.started": "2024-05-26T17:48:15.110476Z"
    },
    "id": "e13ea9b3-0246-4e60-bcce-a2cfdd8e3bbf",
    "tags": []
   },
   "outputs": [],
   "source": [
    "def compute_class_weights(labels):\n",
    "    class_weights = compute_class_weight(class_weight='balanced', classes=np.unique(labels), y=labels)\n",
    "    return torch.tensor(class_weights, dtype=torch.float)"
   ]
  },
  {
   "cell_type": "code",
   "execution_count": 14,
   "id": "d9e31d0f-71b1-4cb5-a99c-2fac6510cbcb",
   "metadata": {
    "execution": {
     "iopub.execute_input": "2024-05-26T17:48:15.978231Z",
     "iopub.status.busy": "2024-05-26T17:48:15.977116Z",
     "iopub.status.idle": "2024-05-26T17:48:16.008833Z",
     "shell.execute_reply": "2024-05-26T17:48:16.007445Z",
     "shell.execute_reply.started": "2024-05-26T17:48:15.978181Z"
    },
    "id": "d9e31d0f-71b1-4cb5-a99c-2fac6510cbcb",
    "tags": []
   },
   "outputs": [],
   "source": [
    "def plot_confusion_matrix(y_true, y_pred, classes, title='Confusion matrix', cmap=plt.cm.Blues):\n",
    "    cm = confusion_matrix(y_true, y_pred)\n",
    "    plt.figure(figsize=(10, 8))\n",
    "    sns.heatmap(cm, annot=True, fmt='d', cmap=cmap, xticklabels=classes, yticklabels=classes)\n",
    "    plt.title(title)\n",
    "    plt.ylabel('True label')\n",
    "    plt.xlabel('Predicted label')\n",
    "    plt.show()"
   ]
  },
  {
   "cell_type": "code",
   "execution_count": 15,
   "id": "d715b7b5-94fa-4232-b66f-99d455a2bc43",
   "metadata": {
    "execution": {
     "iopub.execute_input": "2024-05-26T17:48:16.601177Z",
     "iopub.status.busy": "2024-05-26T17:48:16.599553Z",
     "iopub.status.idle": "2024-05-26T17:48:16.618532Z",
     "shell.execute_reply": "2024-05-26T17:48:16.617525Z",
     "shell.execute_reply.started": "2024-05-26T17:48:16.601118Z"
    },
    "id": "d715b7b5-94fa-4232-b66f-99d455a2bc43",
    "tags": []
   },
   "outputs": [],
   "source": [
    "def plot_training_loss(trainer_state, title='Training and Validation Loss'):\n",
    "    train_loss = [log['loss'] for log in trainer_state.log_history if 'loss' in log]\n",
    "    eval_loss = [log['eval_loss'] for log in trainer_state.log_history if 'eval_loss' in log]\n",
    "    plt.figure(figsize=(10, 8))\n",
    "    plt.plot(train_loss, label='Training Loss')\n",
    "    if eval_loss:\n",
    "        plt.plot(eval_loss, label='Validation Loss')\n",
    "    plt.title(title)\n",
    "    plt.xlabel('Epoch')\n",
    "    plt.ylabel('Loss')\n",
    "    plt.legend()\n",
    "    plt.show()"
   ]
  },
  {
   "cell_type": "code",
   "execution_count": 33,
   "id": "GfCVM4AgmhxV",
   "metadata": {
    "colab": {
     "base_uri": "https://localhost:8080/",
     "height": 767,
     "referenced_widgets": [
      "fc8f07bd2b494be9b8544c8674065669",
      "0cefb53940ab42d296d1742d522f3d3a",
      "ca9e3668c1d64233a4da00c352e97a85",
      "e2361d53bf6149e1bd019b18dbc34777",
      "e8924a79cf214f6bb7f4c6f90a29bab9",
      "3bfa6f4baff44b4cabe4990d3d13f9c7",
      "a20b8dcf40e54d848859f5a8fb8fbf1a",
      "50f1a34c49c54d59905197652574fdf4",
      "9fceffa60e404485b89791fad3c11107",
      "bb0566b1ac584798b83c707ec7f9a412",
      "f7059284f6fa498fbefa67192592cd2e",
      "55dbb577e80d4bdf959f4a9591295174",
      "c44e65d70c594654a9bf6b4750850312",
      "93095e0e62d242fba10b45653367292b",
      "127d612bf260449fb915779d648e7cf6",
      "bc605fb0bf5e4b359a7bec130bea0c2d",
      "efa90942dc7d4a28a97cf219ff579e33",
      "f5c5b77fceec4048a3468d37638d65b9",
      "3768de0c6ef24f26810ade10a925132a",
      "152292bdd4d54bd59656f41bb1df63c1",
      "22299b4eeecc49739d9cc01989113388",
      "5cd58908833445018a886da621449d9d",
      "afebdef08bef4218978401b219143998",
      "87195e3e4e004598bf5482882677be33",
      "5041a81ac5684e66adc6b6d9e63d288b",
      "24100595d64a4da4bc841bda45a74be3",
      "5ba9646e94be4624be1df2bf74ca0413",
      "f65a998cce3a4a33b47e34d5082293bf",
      "50465097e76f45afaa938c96981e08ea",
      "76f14be749834854ab8cf11364d1b4e4",
      "2793115c0a2a40fda4132fe6e1036c5d",
      "e86e72a85be54dfd9560803c0b9ff594",
      "c8da29a211fa47a395dfc8e5a01d1b45",
      "7957adb64b534ebf852161a296ec4a63",
      "ebff14a16d1e46af8d5a6f107533442a",
      "9dd3d3c45ba04fb189721fd3f0d9244a",
      "d7677df054974b11ae1953044db7c682",
      "154bfd3893e342258c32b0af48b0ed47",
      "915cfa60547c4f3596a373f11e9fff5b",
      "bca4addb65a942a08f5c498316bec212",
      "6bc391b8d7bc4ddeaf2644979e3ad217",
      "ea67b8620546411fa16b70f8a70d58b0",
      "67ee7aab9ad145bca55168c3ac2728e9",
      "9218d29a387648c59d0ba85196d4e519",
      "d964462f65dc4cf996c0a546bcea9141",
      "81ec875ae8e645ee8c06716be47eef8c",
      "4997d08e88ae4e6b9f28fc8c133d6ac2",
      "faad602d6081486dbaa5c0856a0933b0",
      "b7aa4923a0664883b973fce95f59ce07",
      "fface29e8fe84d319acd54a43c891c27",
      "1227c2fb4c8e4a209765ceaf3d4577cb",
      "923924fbf9ca4f01b69be8b5ab401f8d",
      "d5cfc95b25bb41a9813d890a36f00d94",
      "04ad4790c0f8485ca42bd2e8e5d468ba",
      "24fa38ac37a947cd82f8f9d55375359a"
     ]
    },
    "execution": {
     "iopub.execute_input": "2024-05-25T18:44:54.348345Z",
     "iopub.status.busy": "2024-05-25T18:44:54.347142Z",
     "iopub.status.idle": "2024-05-25T18:52:20.775786Z",
     "shell.execute_reply": "2024-05-25T18:52:20.774676Z",
     "shell.execute_reply.started": "2024-05-25T18:44:54.348297Z"
    },
    "id": "GfCVM4AgmhxV",
    "outputId": "b0ec671b-fea7-4bad-81d7-db5d0b2c9a6d",
    "tags": []
   },
   "outputs": [
    {
     "name": "stderr",
     "output_type": "stream",
     "text": [
      "Some weights of BertForSequenceClassification were not initialized from the model checkpoint at bert-base-multilingual-cased and are newly initialized: ['classifier.bias', 'classifier.weight']\n",
      "You should probably TRAIN this model on a down-stream task to be able to use it for predictions and inference.\n",
      "  1%|          | 11/1161 [00:01<02:21,  8.11it/s]"
     ]
    },
    {
     "name": "stdout",
     "output_type": "stream",
     "text": [
      "{'loss': 2.334, 'grad_norm': 11.265993118286133, 'learning_rate': 2.0000000000000002e-07, 'epoch': 0.03}\n"
     ]
    },
    {
     "name": "stderr",
     "output_type": "stream",
     "text": [
      "  2%|▏         | 21/1161 [00:02<02:19,  8.16it/s]"
     ]
    },
    {
     "name": "stdout",
     "output_type": "stream",
     "text": [
      "{'loss': 2.3088, 'grad_norm': 6.245600700378418, 'learning_rate': 4.0000000000000003e-07, 'epoch': 0.05}\n"
     ]
    },
    {
     "name": "stderr",
     "output_type": "stream",
     "text": [
      "  3%|▎         | 30/1161 [00:03<02:17,  8.21it/s]"
     ]
    },
    {
     "name": "stdout",
     "output_type": "stream",
     "text": [
      "{'loss': 2.3408, 'grad_norm': 7.160863399505615, 'learning_rate': 6.000000000000001e-07, 'epoch': 0.08}\n"
     ]
    },
    {
     "name": "stderr",
     "output_type": "stream",
     "text": [
      "  3%|▎         | 40/1161 [00:04<02:14,  8.34it/s]"
     ]
    },
    {
     "name": "stdout",
     "output_type": "stream",
     "text": [
      "{'loss': 2.3416, 'grad_norm': 5.567075252532959, 'learning_rate': 8.000000000000001e-07, 'epoch': 0.1}\n"
     ]
    },
    {
     "name": "stderr",
     "output_type": "stream",
     "text": [
      "  4%|▍         | 50/1161 [00:06<02:13,  8.35it/s]"
     ]
    },
    {
     "name": "stdout",
     "output_type": "stream",
     "text": [
      "{'loss': 2.3337, 'grad_norm': 6.239689350128174, 'learning_rate': 1.0000000000000002e-06, 'epoch': 0.13}\n"
     ]
    },
    {
     "name": "stderr",
     "output_type": "stream",
     "text": [
      "  5%|▌         | 60/1161 [00:07<02:11,  8.37it/s]"
     ]
    },
    {
     "name": "stdout",
     "output_type": "stream",
     "text": [
      "{'loss': 2.3383, 'grad_norm': 7.021489143371582, 'learning_rate': 1.2000000000000002e-06, 'epoch': 0.16}\n"
     ]
    },
    {
     "name": "stderr",
     "output_type": "stream",
     "text": [
      "  6%|▌         | 70/1161 [00:08<02:10,  8.36it/s]"
     ]
    },
    {
     "name": "stdout",
     "output_type": "stream",
     "text": [
      "{'loss': 2.311, 'grad_norm': 9.041400909423828, 'learning_rate': 1.4000000000000001e-06, 'epoch': 0.18}\n"
     ]
    },
    {
     "name": "stderr",
     "output_type": "stream",
     "text": [
      "  7%|▋         | 80/1161 [00:09<02:08,  8.43it/s]"
     ]
    },
    {
     "name": "stdout",
     "output_type": "stream",
     "text": [
      "{'loss': 2.2856, 'grad_norm': 7.794925212860107, 'learning_rate': 1.6000000000000001e-06, 'epoch': 0.21}\n"
     ]
    },
    {
     "name": "stderr",
     "output_type": "stream",
     "text": [
      "  8%|▊         | 90/1161 [00:10<02:08,  8.30it/s]"
     ]
    },
    {
     "name": "stdout",
     "output_type": "stream",
     "text": [
      "{'loss': 2.2576, 'grad_norm': 6.9753007888793945, 'learning_rate': 1.8000000000000001e-06, 'epoch': 0.23}\n"
     ]
    },
    {
     "name": "stderr",
     "output_type": "stream",
     "text": [
      "  9%|▊         | 101/1161 [00:12<02:05,  8.42it/s]"
     ]
    },
    {
     "name": "stdout",
     "output_type": "stream",
     "text": [
      "{'loss': 2.2711, 'grad_norm': 6.06093692779541, 'learning_rate': 2.0000000000000003e-06, 'epoch': 0.26}\n"
     ]
    },
    {
     "name": "stderr",
     "output_type": "stream",
     "text": [
      " 10%|▉         | 111/1161 [00:13<02:07,  8.25it/s]"
     ]
    },
    {
     "name": "stdout",
     "output_type": "stream",
     "text": [
      "{'loss': 2.224, 'grad_norm': 8.295572280883789, 'learning_rate': 2.2e-06, 'epoch': 0.28}\n"
     ]
    },
    {
     "name": "stderr",
     "output_type": "stream",
     "text": [
      " 10%|█         | 121/1161 [00:14<02:06,  8.20it/s]"
     ]
    },
    {
     "name": "stdout",
     "output_type": "stream",
     "text": [
      "{'loss': 2.2068, 'grad_norm': 10.225296020507812, 'learning_rate': 2.4000000000000003e-06, 'epoch': 0.31}\n"
     ]
    },
    {
     "name": "stderr",
     "output_type": "stream",
     "text": [
      " 11%|█▏        | 131/1161 [00:15<02:02,  8.43it/s]"
     ]
    },
    {
     "name": "stdout",
     "output_type": "stream",
     "text": [
      "{'loss': 2.2082, 'grad_norm': 8.235527992248535, 'learning_rate': 2.6e-06, 'epoch': 0.34}\n"
     ]
    },
    {
     "name": "stderr",
     "output_type": "stream",
     "text": [
      " 12%|█▏        | 141/1161 [00:16<02:02,  8.32it/s]"
     ]
    },
    {
     "name": "stdout",
     "output_type": "stream",
     "text": [
      "{'loss': 2.1561, 'grad_norm': 10.455652236938477, 'learning_rate': 2.8000000000000003e-06, 'epoch': 0.36}\n"
     ]
    },
    {
     "name": "stderr",
     "output_type": "stream",
     "text": [
      " 13%|█▎        | 151/1161 [00:18<02:02,  8.25it/s]"
     ]
    },
    {
     "name": "stdout",
     "output_type": "stream",
     "text": [
      "{'loss': 2.1728, 'grad_norm': 15.180804252624512, 'learning_rate': 3e-06, 'epoch': 0.39}\n"
     ]
    },
    {
     "name": "stderr",
     "output_type": "stream",
     "text": [
      " 14%|█▍        | 161/1161 [00:19<02:00,  8.31it/s]"
     ]
    },
    {
     "name": "stdout",
     "output_type": "stream",
     "text": [
      "{'loss': 2.1428, 'grad_norm': 11.522047996520996, 'learning_rate': 3.2000000000000003e-06, 'epoch': 0.41}\n"
     ]
    },
    {
     "name": "stderr",
     "output_type": "stream",
     "text": [
      " 15%|█▍        | 171/1161 [00:20<01:58,  8.33it/s]"
     ]
    },
    {
     "name": "stdout",
     "output_type": "stream",
     "text": [
      "{'loss': 2.0796, 'grad_norm': 14.36402416229248, 'learning_rate': 3.4000000000000005e-06, 'epoch': 0.44}\n"
     ]
    },
    {
     "name": "stderr",
     "output_type": "stream",
     "text": [
      " 16%|█▌        | 181/1161 [00:21<01:56,  8.38it/s]"
     ]
    },
    {
     "name": "stdout",
     "output_type": "stream",
     "text": [
      "{'loss': 2.0706, 'grad_norm': 10.82556438446045, 'learning_rate': 3.6000000000000003e-06, 'epoch': 0.47}\n"
     ]
    },
    {
     "name": "stderr",
     "output_type": "stream",
     "text": [
      " 16%|█▋        | 191/1161 [00:22<01:56,  8.29it/s]"
     ]
    },
    {
     "name": "stdout",
     "output_type": "stream",
     "text": [
      "{'loss': 1.9857, 'grad_norm': 11.287236213684082, 'learning_rate': 3.8000000000000005e-06, 'epoch': 0.49}\n"
     ]
    },
    {
     "name": "stderr",
     "output_type": "stream",
     "text": [
      " 17%|█▋        | 200/1161 [00:24<01:54,  8.42it/s]"
     ]
    },
    {
     "name": "stdout",
     "output_type": "stream",
     "text": [
      "{'loss': 1.8181, 'grad_norm': 10.461265563964844, 'learning_rate': 4.000000000000001e-06, 'epoch': 0.52}\n"
     ]
    },
    {
     "name": "stderr",
     "output_type": "stream",
     "text": [
      " 18%|█▊        | 211/1161 [00:25<01:56,  8.19it/s]"
     ]
    },
    {
     "name": "stdout",
     "output_type": "stream",
     "text": [
      "{'loss': 1.7672, 'grad_norm': 9.398736000061035, 'learning_rate': 4.2000000000000004e-06, 'epoch': 0.54}\n"
     ]
    },
    {
     "name": "stderr",
     "output_type": "stream",
     "text": [
      " 19%|█▉        | 221/1161 [00:26<01:52,  8.34it/s]"
     ]
    },
    {
     "name": "stdout",
     "output_type": "stream",
     "text": [
      "{'loss': 1.8713, 'grad_norm': 12.142624855041504, 'learning_rate': 4.4e-06, 'epoch': 0.57}\n"
     ]
    },
    {
     "name": "stderr",
     "output_type": "stream",
     "text": [
      " 20%|█▉        | 230/1161 [00:27<01:50,  8.41it/s]"
     ]
    },
    {
     "name": "stdout",
     "output_type": "stream",
     "text": [
      "{'loss': 1.8104, 'grad_norm': 25.03551483154297, 'learning_rate': 4.600000000000001e-06, 'epoch': 0.59}\n"
     ]
    },
    {
     "name": "stderr",
     "output_type": "stream",
     "text": [
      " 21%|██        | 240/1161 [00:28<01:49,  8.40it/s]"
     ]
    },
    {
     "name": "stdout",
     "output_type": "stream",
     "text": [
      "{'loss': 1.9241, 'grad_norm': 10.204648971557617, 'learning_rate': 4.800000000000001e-06, 'epoch': 0.62}\n"
     ]
    },
    {
     "name": "stderr",
     "output_type": "stream",
     "text": [
      " 22%|██▏       | 250/1161 [00:29<01:47,  8.44it/s]"
     ]
    },
    {
     "name": "stdout",
     "output_type": "stream",
     "text": [
      "{'loss': 1.6564, 'grad_norm': 7.7614240646362305, 'learning_rate': 5e-06, 'epoch': 0.65}\n"
     ]
    },
    {
     "name": "stderr",
     "output_type": "stream",
     "text": [
      " 22%|██▏       | 260/1161 [00:31<01:46,  8.43it/s]"
     ]
    },
    {
     "name": "stdout",
     "output_type": "stream",
     "text": [
      "{'loss': 1.5542, 'grad_norm': 13.064299583435059, 'learning_rate': 5.2e-06, 'epoch': 0.67}\n"
     ]
    },
    {
     "name": "stderr",
     "output_type": "stream",
     "text": [
      " 23%|██▎       | 270/1161 [00:32<01:45,  8.46it/s]"
     ]
    },
    {
     "name": "stdout",
     "output_type": "stream",
     "text": [
      "{'loss': 1.7638, 'grad_norm': 14.956003189086914, 'learning_rate': 5.400000000000001e-06, 'epoch': 0.7}\n"
     ]
    },
    {
     "name": "stderr",
     "output_type": "stream",
     "text": [
      " 24%|██▍       | 280/1161 [00:33<01:45,  8.33it/s]"
     ]
    },
    {
     "name": "stdout",
     "output_type": "stream",
     "text": [
      "{'loss': 1.4437, 'grad_norm': 11.04605484008789, 'learning_rate': 5.600000000000001e-06, 'epoch': 0.72}\n"
     ]
    },
    {
     "name": "stderr",
     "output_type": "stream",
     "text": [
      " 25%|██▍       | 290/1161 [00:34<01:43,  8.43it/s]"
     ]
    },
    {
     "name": "stdout",
     "output_type": "stream",
     "text": [
      "{'loss': 1.366, 'grad_norm': 17.67290687561035, 'learning_rate': 5.8e-06, 'epoch': 0.75}\n"
     ]
    },
    {
     "name": "stderr",
     "output_type": "stream",
     "text": [
      " 26%|██▌       | 300/1161 [00:35<01:42,  8.43it/s]"
     ]
    },
    {
     "name": "stdout",
     "output_type": "stream",
     "text": [
      "{'loss': 1.5272, 'grad_norm': 13.351090431213379, 'learning_rate': 6e-06, 'epoch': 0.78}\n"
     ]
    },
    {
     "name": "stderr",
     "output_type": "stream",
     "text": [
      " 27%|██▋       | 310/1161 [00:37<01:40,  8.50it/s]"
     ]
    },
    {
     "name": "stdout",
     "output_type": "stream",
     "text": [
      "{'loss': 1.2863, 'grad_norm': 33.148990631103516, 'learning_rate': 6.200000000000001e-06, 'epoch': 0.8}\n"
     ]
    },
    {
     "name": "stderr",
     "output_type": "stream",
     "text": [
      " 28%|██▊       | 320/1161 [00:38<01:39,  8.43it/s]"
     ]
    },
    {
     "name": "stdout",
     "output_type": "stream",
     "text": [
      "{'loss': 1.07, 'grad_norm': 8.4498872756958, 'learning_rate': 6.4000000000000006e-06, 'epoch': 0.83}\n"
     ]
    },
    {
     "name": "stderr",
     "output_type": "stream",
     "text": [
      " 28%|██▊       | 330/1161 [00:39<01:38,  8.39it/s]"
     ]
    },
    {
     "name": "stdout",
     "output_type": "stream",
     "text": [
      "{'loss': 1.0509, 'grad_norm': 11.637197494506836, 'learning_rate': 6.600000000000001e-06, 'epoch': 0.85}\n"
     ]
    },
    {
     "name": "stderr",
     "output_type": "stream",
     "text": [
      " 29%|██▉       | 341/1161 [00:40<01:38,  8.32it/s]"
     ]
    },
    {
     "name": "stdout",
     "output_type": "stream",
     "text": [
      "{'loss': 1.2771, 'grad_norm': 22.194965362548828, 'learning_rate': 6.800000000000001e-06, 'epoch': 0.88}\n"
     ]
    },
    {
     "name": "stderr",
     "output_type": "stream",
     "text": [
      " 30%|███       | 351/1161 [00:42<01:36,  8.37it/s]"
     ]
    },
    {
     "name": "stdout",
     "output_type": "stream",
     "text": [
      "{'loss': 1.089, 'grad_norm': 24.265117645263672, 'learning_rate': 7e-06, 'epoch': 0.9}\n"
     ]
    },
    {
     "name": "stderr",
     "output_type": "stream",
     "text": [
      " 31%|███       | 361/1161 [00:43<01:35,  8.36it/s]"
     ]
    },
    {
     "name": "stdout",
     "output_type": "stream",
     "text": [
      "{'loss': 0.9337, 'grad_norm': 19.59955406188965, 'learning_rate': 7.2000000000000005e-06, 'epoch': 0.93}\n"
     ]
    },
    {
     "name": "stderr",
     "output_type": "stream",
     "text": [
      " 32%|███▏      | 371/1161 [00:44<01:34,  8.35it/s]"
     ]
    },
    {
     "name": "stdout",
     "output_type": "stream",
     "text": [
      "{'loss': 0.7157, 'grad_norm': 7.939815998077393, 'learning_rate': 7.4e-06, 'epoch': 0.96}\n"
     ]
    },
    {
     "name": "stderr",
     "output_type": "stream",
     "text": [
      " 33%|███▎      | 381/1161 [00:45<01:33,  8.36it/s]"
     ]
    },
    {
     "name": "stdout",
     "output_type": "stream",
     "text": [
      "{'loss': 0.8292, 'grad_norm': 16.642446517944336, 'learning_rate': 7.600000000000001e-06, 'epoch': 0.98}\n"
     ]
    },
    {
     "name": "stderr",
     "output_type": "stream",
     "text": [
      " 33%|███▎      | 387/1161 [00:46<01:30,  8.59it/s]\n",
      "  0%|          | 0/27 [00:00<?, ?it/s]\u001b[A\n",
      " 19%|█▊        | 5/27 [00:00<00:00, 45.77it/s]\u001b[A\n",
      " 37%|███▋      | 10/27 [00:00<00:00, 39.20it/s]\u001b[A\n",
      " 52%|█████▏    | 14/27 [00:00<00:00, 37.58it/s]\u001b[A\n",
      " 67%|██████▋   | 18/27 [00:00<00:00, 37.06it/s]\u001b[A\n",
      " 81%|████████▏ | 22/27 [00:00<00:00, 36.67it/s]\u001b[A\n",
      "                                                  \n",
      " 33%|███▎      | 387/1161 [00:47<01:30,  8.59it/s]\n",
      "100%|██████████| 27/27 [00:00<00:00, 36.55it/s]\u001b[A\n",
      "                                               \u001b[A"
     ]
    },
    {
     "name": "stdout",
     "output_type": "stream",
     "text": [
      "{'eval_loss': 1.0650651454925537, 'eval_runtime': 0.7527, 'eval_samples_per_second': 555.302, 'eval_steps_per_second': 35.869, 'epoch': 1.0}\n"
     ]
    },
    {
     "name": "stderr",
     "output_type": "stream",
     "text": [
      " 34%|███▎      | 390/1161 [01:57<2:14:23, 10.46s/it]"
     ]
    },
    {
     "name": "stdout",
     "output_type": "stream",
     "text": [
      "{'loss': 0.6428, 'grad_norm': 6.3555006980896, 'learning_rate': 7.800000000000002e-06, 'epoch': 1.01}\n"
     ]
    },
    {
     "name": "stderr",
     "output_type": "stream",
     "text": [
      " 34%|███▍      | 400/1161 [01:58<05:11,  2.44it/s]  "
     ]
    },
    {
     "name": "stdout",
     "output_type": "stream",
     "text": [
      "{'loss': 0.547, 'grad_norm': 7.713268756866455, 'learning_rate': 8.000000000000001e-06, 'epoch': 1.03}\n"
     ]
    },
    {
     "name": "stderr",
     "output_type": "stream",
     "text": [
      " 35%|███▌      | 410/1161 [01:59<01:34,  7.95it/s]"
     ]
    },
    {
     "name": "stdout",
     "output_type": "stream",
     "text": [
      "{'loss': 0.4722, 'grad_norm': 12.773462295532227, 'learning_rate': 8.2e-06, 'epoch': 1.06}\n"
     ]
    },
    {
     "name": "stderr",
     "output_type": "stream",
     "text": [
      " 36%|███▌      | 420/1161 [02:00<01:28,  8.36it/s]"
     ]
    },
    {
     "name": "stdout",
     "output_type": "stream",
     "text": [
      "{'loss': 0.4247, 'grad_norm': 3.3208014965057373, 'learning_rate': 8.400000000000001e-06, 'epoch': 1.09}\n"
     ]
    },
    {
     "name": "stderr",
     "output_type": "stream",
     "text": [
      " 37%|███▋      | 430/1161 [02:01<01:27,  8.33it/s]"
     ]
    },
    {
     "name": "stdout",
     "output_type": "stream",
     "text": [
      "{'loss': 0.331, 'grad_norm': 4.05006217956543, 'learning_rate': 8.6e-06, 'epoch': 1.11}\n"
     ]
    },
    {
     "name": "stderr",
     "output_type": "stream",
     "text": [
      " 38%|███▊      | 440/1161 [02:02<01:26,  8.33it/s]"
     ]
    },
    {
     "name": "stdout",
     "output_type": "stream",
     "text": [
      "{'loss': 0.2981, 'grad_norm': 2.1563987731933594, 'learning_rate': 8.8e-06, 'epoch': 1.14}\n"
     ]
    },
    {
     "name": "stderr",
     "output_type": "stream",
     "text": [
      " 39%|███▉      | 450/1161 [02:04<01:24,  8.37it/s]"
     ]
    },
    {
     "name": "stdout",
     "output_type": "stream",
     "text": [
      "{'loss': 0.2832, 'grad_norm': 3.9821038246154785, 'learning_rate': 9e-06, 'epoch': 1.16}\n"
     ]
    },
    {
     "name": "stderr",
     "output_type": "stream",
     "text": [
      " 40%|███▉      | 460/1161 [02:05<01:23,  8.38it/s]"
     ]
    },
    {
     "name": "stdout",
     "output_type": "stream",
     "text": [
      "{'loss': 0.22, 'grad_norm': 3.5406670570373535, 'learning_rate': 9.200000000000002e-06, 'epoch': 1.19}\n"
     ]
    },
    {
     "name": "stderr",
     "output_type": "stream",
     "text": [
      " 40%|████      | 470/1161 [02:06<01:23,  8.26it/s]"
     ]
    },
    {
     "name": "stdout",
     "output_type": "stream",
     "text": [
      "{'loss': 0.2801, 'grad_norm': 6.303701400756836, 'learning_rate': 9.4e-06, 'epoch': 1.21}\n"
     ]
    },
    {
     "name": "stderr",
     "output_type": "stream",
     "text": [
      " 41%|████▏     | 480/1161 [02:07<01:22,  8.30it/s]"
     ]
    },
    {
     "name": "stdout",
     "output_type": "stream",
     "text": [
      "{'loss': 0.1936, 'grad_norm': 4.995035171508789, 'learning_rate': 9.600000000000001e-06, 'epoch': 1.24}\n"
     ]
    },
    {
     "name": "stderr",
     "output_type": "stream",
     "text": [
      " 42%|████▏     | 490/1161 [02:09<01:20,  8.38it/s]"
     ]
    },
    {
     "name": "stdout",
     "output_type": "stream",
     "text": [
      "{'loss': 0.2012, 'grad_norm': 1.9682495594024658, 'learning_rate': 9.800000000000001e-06, 'epoch': 1.27}\n"
     ]
    },
    {
     "name": "stderr",
     "output_type": "stream",
     "text": [
      " 43%|████▎     | 500/1161 [02:10<01:19,  8.31it/s]"
     ]
    },
    {
     "name": "stdout",
     "output_type": "stream",
     "text": [
      "{'loss': 0.1603, 'grad_norm': 4.870064735412598, 'learning_rate': 1e-05, 'epoch': 1.29}\n"
     ]
    },
    {
     "name": "stderr",
     "output_type": "stream",
     "text": [
      " 44%|████▍     | 510/1161 [02:11<01:17,  8.37it/s]"
     ]
    },
    {
     "name": "stdout",
     "output_type": "stream",
     "text": [
      "{'loss': 0.1613, 'grad_norm': 1.832427740097046, 'learning_rate': 9.848714069591528e-06, 'epoch': 1.32}\n"
     ]
    },
    {
     "name": "stderr",
     "output_type": "stream",
     "text": [
      " 45%|████▍     | 520/1161 [02:12<01:16,  8.40it/s]"
     ]
    },
    {
     "name": "stdout",
     "output_type": "stream",
     "text": [
      "{'loss': 0.1139, 'grad_norm': 1.4793494939804077, 'learning_rate': 9.697428139183058e-06, 'epoch': 1.34}\n"
     ]
    },
    {
     "name": "stderr",
     "output_type": "stream",
     "text": [
      " 46%|████▌     | 530/1161 [02:13<01:14,  8.44it/s]"
     ]
    },
    {
     "name": "stdout",
     "output_type": "stream",
     "text": [
      "{'loss': 0.0891, 'grad_norm': 2.001539468765259, 'learning_rate': 9.546142208774585e-06, 'epoch': 1.37}\n"
     ]
    },
    {
     "name": "stderr",
     "output_type": "stream",
     "text": [
      " 47%|████▋     | 540/1161 [02:15<01:13,  8.47it/s]"
     ]
    },
    {
     "name": "stdout",
     "output_type": "stream",
     "text": [
      "{'loss': 0.1252, 'grad_norm': 0.49955758452415466, 'learning_rate': 9.394856278366113e-06, 'epoch': 1.4}\n"
     ]
    },
    {
     "name": "stderr",
     "output_type": "stream",
     "text": [
      " 47%|████▋     | 550/1161 [02:16<01:12,  8.45it/s]"
     ]
    },
    {
     "name": "stdout",
     "output_type": "stream",
     "text": [
      "{'loss': 0.084, 'grad_norm': 0.7396667003631592, 'learning_rate': 9.243570347957642e-06, 'epoch': 1.42}\n"
     ]
    },
    {
     "name": "stderr",
     "output_type": "stream",
     "text": [
      " 48%|████▊     | 560/1161 [02:17<01:11,  8.40it/s]"
     ]
    },
    {
     "name": "stdout",
     "output_type": "stream",
     "text": [
      "{'loss': 0.0851, 'grad_norm': 0.45786136388778687, 'learning_rate': 9.09228441754917e-06, 'epoch': 1.45}\n"
     ]
    },
    {
     "name": "stderr",
     "output_type": "stream",
     "text": [
      " 49%|████▉     | 570/1161 [02:18<01:10,  8.40it/s]"
     ]
    },
    {
     "name": "stdout",
     "output_type": "stream",
     "text": [
      "{'loss': 0.0547, 'grad_norm': 0.7506171464920044, 'learning_rate': 8.940998487140697e-06, 'epoch': 1.47}\n"
     ]
    },
    {
     "name": "stderr",
     "output_type": "stream",
     "text": [
      " 50%|████▉     | 580/1161 [02:19<01:08,  8.43it/s]"
     ]
    },
    {
     "name": "stdout",
     "output_type": "stream",
     "text": [
      "{'loss': 0.0466, 'grad_norm': 0.4385451078414917, 'learning_rate': 8.789712556732225e-06, 'epoch': 1.5}\n"
     ]
    },
    {
     "name": "stderr",
     "output_type": "stream",
     "text": [
      " 51%|█████     | 590/1161 [02:21<01:08,  8.37it/s]"
     ]
    },
    {
     "name": "stdout",
     "output_type": "stream",
     "text": [
      "{'loss': 0.0494, 'grad_norm': 1.4287998676300049, 'learning_rate': 8.638426626323752e-06, 'epoch': 1.52}\n"
     ]
    },
    {
     "name": "stderr",
     "output_type": "stream",
     "text": [
      " 52%|█████▏    | 600/1161 [02:22<01:06,  8.48it/s]"
     ]
    },
    {
     "name": "stdout",
     "output_type": "stream",
     "text": [
      "{'loss': 0.0446, 'grad_norm': 0.2719308137893677, 'learning_rate': 8.48714069591528e-06, 'epoch': 1.55}\n"
     ]
    },
    {
     "name": "stderr",
     "output_type": "stream",
     "text": [
      " 53%|█████▎    | 610/1161 [02:23<01:05,  8.36it/s]"
     ]
    },
    {
     "name": "stdout",
     "output_type": "stream",
     "text": [
      "{'loss': 0.054, 'grad_norm': 0.23317338526248932, 'learning_rate': 8.335854765506809e-06, 'epoch': 1.58}\n"
     ]
    },
    {
     "name": "stderr",
     "output_type": "stream",
     "text": [
      " 53%|█████▎    | 620/1161 [02:24<01:04,  8.33it/s]"
     ]
    },
    {
     "name": "stdout",
     "output_type": "stream",
     "text": [
      "{'loss': 0.0403, 'grad_norm': 0.8865625262260437, 'learning_rate': 8.184568835098336e-06, 'epoch': 1.6}\n"
     ]
    },
    {
     "name": "stderr",
     "output_type": "stream",
     "text": [
      " 54%|█████▍    | 630/1161 [02:25<01:03,  8.39it/s]"
     ]
    },
    {
     "name": "stdout",
     "output_type": "stream",
     "text": [
      "{'loss': 0.0382, 'grad_norm': 0.554732084274292, 'learning_rate': 8.033282904689864e-06, 'epoch': 1.63}\n"
     ]
    },
    {
     "name": "stderr",
     "output_type": "stream",
     "text": [
      " 55%|█████▌    | 640/1161 [02:27<01:02,  8.32it/s]"
     ]
    },
    {
     "name": "stdout",
     "output_type": "stream",
     "text": [
      "{'loss': 0.0456, 'grad_norm': 0.2976745069026947, 'learning_rate': 7.881996974281393e-06, 'epoch': 1.65}\n"
     ]
    },
    {
     "name": "stderr",
     "output_type": "stream",
     "text": [
      " 56%|█████▌    | 650/1161 [02:28<01:01,  8.31it/s]"
     ]
    },
    {
     "name": "stdout",
     "output_type": "stream",
     "text": [
      "{'loss': 0.0286, 'grad_norm': 0.17794029414653778, 'learning_rate': 7.73071104387292e-06, 'epoch': 1.68}\n"
     ]
    },
    {
     "name": "stderr",
     "output_type": "stream",
     "text": [
      " 57%|█████▋    | 661/1161 [02:52<59:24,  7.13s/it]"
     ]
    },
    {
     "name": "stdout",
     "output_type": "stream",
     "text": [
      "{'loss': 0.0289, 'grad_norm': 0.3802720606327057, 'learning_rate': 7.579425113464448e-06, 'epoch': 1.71}\n"
     ]
    },
    {
     "name": "stderr",
     "output_type": "stream",
     "text": [
      " 58%|█████▊    | 671/1161 [02:54<02:36,  3.14it/s]"
     ]
    },
    {
     "name": "stdout",
     "output_type": "stream",
     "text": [
      "{'loss': 0.0265, 'grad_norm': 0.21597786247730255, 'learning_rate': 7.428139183055977e-06, 'epoch': 1.73}\n"
     ]
    },
    {
     "name": "stderr",
     "output_type": "stream",
     "text": [
      " 59%|█████▊    | 681/1161 [02:55<01:01,  7.74it/s]"
     ]
    },
    {
     "name": "stdout",
     "output_type": "stream",
     "text": [
      "{'loss': 0.0478, 'grad_norm': 0.769994854927063, 'learning_rate': 7.276853252647504e-06, 'epoch': 1.76}\n"
     ]
    },
    {
     "name": "stderr",
     "output_type": "stream",
     "text": [
      " 60%|█████▉    | 691/1161 [02:56<00:56,  8.29it/s]"
     ]
    },
    {
     "name": "stdout",
     "output_type": "stream",
     "text": [
      "{'loss': 0.0227, 'grad_norm': 0.3169330656528473, 'learning_rate': 7.125567322239032e-06, 'epoch': 1.78}\n"
     ]
    },
    {
     "name": "stderr",
     "output_type": "stream",
     "text": [
      " 60%|██████    | 701/1161 [02:57<00:55,  8.36it/s]"
     ]
    },
    {
     "name": "stdout",
     "output_type": "stream",
     "text": [
      "{'loss': 0.0376, 'grad_norm': 17.623695373535156, 'learning_rate': 6.974281391830561e-06, 'epoch': 1.81}\n"
     ]
    },
    {
     "name": "stderr",
     "output_type": "stream",
     "text": [
      " 61%|██████    | 711/1161 [02:58<00:54,  8.25it/s]"
     ]
    },
    {
     "name": "stdout",
     "output_type": "stream",
     "text": [
      "{'loss': 0.0336, 'grad_norm': 0.19896167516708374, 'learning_rate': 6.8229954614220885e-06, 'epoch': 1.83}\n"
     ]
    },
    {
     "name": "stderr",
     "output_type": "stream",
     "text": [
      " 62%|██████▏   | 721/1161 [03:00<00:52,  8.38it/s]"
     ]
    },
    {
     "name": "stdout",
     "output_type": "stream",
     "text": [
      "{'loss': 0.0305, 'grad_norm': 0.5741164684295654, 'learning_rate': 6.671709531013616e-06, 'epoch': 1.86}\n"
     ]
    },
    {
     "name": "stderr",
     "output_type": "stream",
     "text": [
      " 63%|██████▎   | 731/1161 [03:01<00:52,  8.18it/s]"
     ]
    },
    {
     "name": "stdout",
     "output_type": "stream",
     "text": [
      "{'loss': 0.0189, 'grad_norm': 0.1828497052192688, 'learning_rate': 6.520423600605144e-06, 'epoch': 1.89}\n"
     ]
    },
    {
     "name": "stderr",
     "output_type": "stream",
     "text": [
      " 64%|██████▍   | 741/1161 [03:02<00:50,  8.31it/s]"
     ]
    },
    {
     "name": "stdout",
     "output_type": "stream",
     "text": [
      "{'loss': 0.0178, 'grad_norm': 0.30751439929008484, 'learning_rate': 6.369137670196672e-06, 'epoch': 1.91}\n"
     ]
    },
    {
     "name": "stderr",
     "output_type": "stream",
     "text": [
      " 65%|██████▍   | 751/1161 [03:03<00:50,  8.12it/s]"
     ]
    },
    {
     "name": "stdout",
     "output_type": "stream",
     "text": [
      "{'loss': 0.0725, 'grad_norm': 6.488158226013184, 'learning_rate': 6.2178517397881995e-06, 'epoch': 1.94}\n"
     ]
    },
    {
     "name": "stderr",
     "output_type": "stream",
     "text": [
      " 66%|██████▌   | 761/1161 [03:04<00:48,  8.30it/s]"
     ]
    },
    {
     "name": "stdout",
     "output_type": "stream",
     "text": [
      "{'loss': 0.018, 'grad_norm': 0.2184593677520752, 'learning_rate': 6.066565809379729e-06, 'epoch': 1.96}\n"
     ]
    },
    {
     "name": "stderr",
     "output_type": "stream",
     "text": [
      " 66%|██████▋   | 771/1161 [03:06<00:47,  8.27it/s]"
     ]
    },
    {
     "name": "stdout",
     "output_type": "stream",
     "text": [
      "{'loss': 0.0367, 'grad_norm': 0.1981356292963028, 'learning_rate': 5.915279878971256e-06, 'epoch': 1.99}\n"
     ]
    },
    {
     "name": "stderr",
     "output_type": "stream",
     "text": [
      " 67%|██████▋   | 774/1161 [03:06<00:46,  8.40it/s]\n",
      "  0%|          | 0/27 [00:00<?, ?it/s]\u001b[A\n",
      " 19%|█▊        | 5/27 [00:00<00:00, 45.02it/s]\u001b[A\n",
      " 37%|███▋      | 10/27 [00:00<00:00, 38.39it/s]\u001b[A\n",
      " 52%|█████▏    | 14/27 [00:00<00:00, 37.19it/s]\u001b[A\n",
      " 67%|██████▋   | 18/27 [00:00<00:00, 36.83it/s]\u001b[A\n",
      " 81%|████████▏ | 22/27 [00:00<00:00, 36.78it/s]\u001b[A\n",
      "                                                  \n",
      " 67%|██████▋   | 774/1161 [03:07<00:46,  8.40it/s]\n",
      "100%|██████████| 27/27 [00:00<00:00, 36.58it/s]\u001b[A\n",
      "                                               \u001b[A"
     ]
    },
    {
     "name": "stdout",
     "output_type": "stream",
     "text": [
      "{'eval_loss': 1.2792912721633911, 'eval_runtime': 0.7555, 'eval_samples_per_second': 553.292, 'eval_steps_per_second': 35.739, 'epoch': 2.0}\n"
     ]
    },
    {
     "name": "stderr",
     "output_type": "stream",
     "text": [
      " 67%|██████▋   | 780/1161 [04:17<23:17,  3.67s/it]  "
     ]
    },
    {
     "name": "stdout",
     "output_type": "stream",
     "text": [
      "{'loss': 0.0162, 'grad_norm': 0.8375017642974854, 'learning_rate': 5.763993948562784e-06, 'epoch': 2.02}\n"
     ]
    },
    {
     "name": "stderr",
     "output_type": "stream",
     "text": [
      " 68%|██████▊   | 790/1161 [04:18<01:21,  4.54it/s]"
     ]
    },
    {
     "name": "stdout",
     "output_type": "stream",
     "text": [
      "{'loss': 0.0208, 'grad_norm': 0.12233500927686691, 'learning_rate': 5.612708018154312e-06, 'epoch': 2.04}\n"
     ]
    },
    {
     "name": "stderr",
     "output_type": "stream",
     "text": [
      " 69%|██████▉   | 800/1161 [04:19<00:44,  8.07it/s]"
     ]
    },
    {
     "name": "stdout",
     "output_type": "stream",
     "text": [
      "{'loss': 0.0332, 'grad_norm': 0.13445629179477692, 'learning_rate': 5.4614220877458406e-06, 'epoch': 2.07}\n"
     ]
    },
    {
     "name": "stderr",
     "output_type": "stream",
     "text": [
      " 70%|██████▉   | 810/1161 [04:21<00:42,  8.25it/s]"
     ]
    },
    {
     "name": "stdout",
     "output_type": "stream",
     "text": [
      "{'loss': 0.0159, 'grad_norm': 0.4917682111263275, 'learning_rate': 5.310136157337368e-06, 'epoch': 2.09}\n"
     ]
    },
    {
     "name": "stderr",
     "output_type": "stream",
     "text": [
      " 71%|███████   | 820/1161 [04:22<00:40,  8.33it/s]"
     ]
    },
    {
     "name": "stdout",
     "output_type": "stream",
     "text": [
      "{'loss': 0.0153, 'grad_norm': 0.28610140085220337, 'learning_rate': 5.1588502269288965e-06, 'epoch': 2.12}\n"
     ]
    },
    {
     "name": "stderr",
     "output_type": "stream",
     "text": [
      " 71%|███████▏  | 830/1161 [04:23<00:39,  8.42it/s]"
     ]
    },
    {
     "name": "stdout",
     "output_type": "stream",
     "text": [
      "{'loss': 0.014, 'grad_norm': 0.10679155588150024, 'learning_rate': 5.007564296520424e-06, 'epoch': 2.14}\n"
     ]
    },
    {
     "name": "stderr",
     "output_type": "stream",
     "text": [
      " 72%|███████▏  | 840/1161 [04:24<00:37,  8.48it/s]"
     ]
    },
    {
     "name": "stdout",
     "output_type": "stream",
     "text": [
      "{'loss': 0.0855, 'grad_norm': 0.24691681563854218, 'learning_rate': 4.856278366111952e-06, 'epoch': 2.17}\n"
     ]
    },
    {
     "name": "stderr",
     "output_type": "stream",
     "text": [
      " 73%|███████▎  | 850/1161 [04:25<00:37,  8.36it/s]"
     ]
    },
    {
     "name": "stdout",
     "output_type": "stream",
     "text": [
      "{'loss': 0.0271, 'grad_norm': 0.29147252440452576, 'learning_rate': 4.70499243570348e-06, 'epoch': 2.2}\n"
     ]
    },
    {
     "name": "stderr",
     "output_type": "stream",
     "text": [
      " 74%|███████▍  | 860/1161 [04:27<00:35,  8.48it/s]"
     ]
    },
    {
     "name": "stdout",
     "output_type": "stream",
     "text": [
      "{'loss': 0.0129, 'grad_norm': 0.10288859903812408, 'learning_rate': 4.553706505295008e-06, 'epoch': 2.22}\n"
     ]
    },
    {
     "name": "stderr",
     "output_type": "stream",
     "text": [
      " 75%|███████▍  | 870/1161 [04:28<00:34,  8.48it/s]"
     ]
    },
    {
     "name": "stdout",
     "output_type": "stream",
     "text": [
      "{'loss': 0.0132, 'grad_norm': 0.09865736216306686, 'learning_rate': 4.402420574886536e-06, 'epoch': 2.25}\n"
     ]
    },
    {
     "name": "stderr",
     "output_type": "stream",
     "text": [
      " 76%|███████▌  | 880/1161 [04:29<00:33,  8.48it/s]"
     ]
    },
    {
     "name": "stdout",
     "output_type": "stream",
     "text": [
      "{'loss': 0.0138, 'grad_norm': 0.16532307863235474, 'learning_rate': 4.2511346444780634e-06, 'epoch': 2.27}\n"
     ]
    },
    {
     "name": "stderr",
     "output_type": "stream",
     "text": [
      " 77%|███████▋  | 890/1161 [04:30<00:32,  8.46it/s]"
     ]
    },
    {
     "name": "stdout",
     "output_type": "stream",
     "text": [
      "{'loss': 0.0211, 'grad_norm': 0.17717696726322174, 'learning_rate': 4.099848714069592e-06, 'epoch': 2.3}\n"
     ]
    },
    {
     "name": "stderr",
     "output_type": "stream",
     "text": [
      " 78%|███████▊  | 900/1161 [04:31<00:31,  8.36it/s]"
     ]
    },
    {
     "name": "stdout",
     "output_type": "stream",
     "text": [
      "{'loss': 0.0124, 'grad_norm': 0.45632097125053406, 'learning_rate': 3.94856278366112e-06, 'epoch': 2.33}\n"
     ]
    },
    {
     "name": "stderr",
     "output_type": "stream",
     "text": [
      " 78%|███████▊  | 910/1161 [04:33<00:30,  8.29it/s]"
     ]
    },
    {
     "name": "stdout",
     "output_type": "stream",
     "text": [
      "{'loss': 0.0124, 'grad_norm': 0.14568305015563965, 'learning_rate': 3.7972768532526477e-06, 'epoch': 2.35}\n"
     ]
    },
    {
     "name": "stderr",
     "output_type": "stream",
     "text": [
      " 79%|███████▉  | 920/1161 [04:34<00:28,  8.38it/s]"
     ]
    },
    {
     "name": "stdout",
     "output_type": "stream",
     "text": [
      "{'loss': 0.013, 'grad_norm': 0.09170397371053696, 'learning_rate': 3.6459909228441757e-06, 'epoch': 2.38}\n"
     ]
    },
    {
     "name": "stderr",
     "output_type": "stream",
     "text": [
      " 80%|████████  | 930/1161 [04:35<00:27,  8.42it/s]"
     ]
    },
    {
     "name": "stdout",
     "output_type": "stream",
     "text": [
      "{'loss': 0.0145, 'grad_norm': 0.0876474380493164, 'learning_rate': 3.4947049924357037e-06, 'epoch': 2.4}\n"
     ]
    },
    {
     "name": "stderr",
     "output_type": "stream",
     "text": [
      " 81%|████████  | 940/1161 [04:36<00:26,  8.47it/s]"
     ]
    },
    {
     "name": "stdout",
     "output_type": "stream",
     "text": [
      "{'loss': 0.0128, 'grad_norm': 0.1139509305357933, 'learning_rate': 3.3434190620272316e-06, 'epoch': 2.43}\n"
     ]
    },
    {
     "name": "stderr",
     "output_type": "stream",
     "text": [
      " 82%|████████▏ | 951/1161 [04:38<00:25,  8.32it/s]"
     ]
    },
    {
     "name": "stdout",
     "output_type": "stream",
     "text": [
      "{'loss': 0.0116, 'grad_norm': 0.10181310027837753, 'learning_rate': 3.19213313161876e-06, 'epoch': 2.45}\n"
     ]
    },
    {
     "name": "stderr",
     "output_type": "stream",
     "text": [
      " 83%|████████▎ | 961/1161 [04:39<00:24,  8.32it/s]"
     ]
    },
    {
     "name": "stdout",
     "output_type": "stream",
     "text": [
      "{'loss': 0.0125, 'grad_norm': 0.08736176043748856, 'learning_rate': 3.0408472012102876e-06, 'epoch': 2.48}\n"
     ]
    },
    {
     "name": "stderr",
     "output_type": "stream",
     "text": [
      " 84%|████████▎ | 971/1161 [04:40<00:22,  8.30it/s]"
     ]
    },
    {
     "name": "stdout",
     "output_type": "stream",
     "text": [
      "{'loss': 0.0249, 'grad_norm': 0.09542738646268845, 'learning_rate': 2.8895612708018155e-06, 'epoch': 2.51}\n"
     ]
    },
    {
     "name": "stderr",
     "output_type": "stream",
     "text": [
      " 84%|████████▍ | 981/1161 [04:41<00:21,  8.30it/s]"
     ]
    },
    {
     "name": "stdout",
     "output_type": "stream",
     "text": [
      "{'loss': 0.0106, 'grad_norm': 0.09743071347475052, 'learning_rate': 2.738275340393344e-06, 'epoch': 2.53}\n"
     ]
    },
    {
     "name": "stderr",
     "output_type": "stream",
     "text": [
      " 85%|████████▌ | 991/1161 [04:42<00:20,  8.30it/s]"
     ]
    },
    {
     "name": "stdout",
     "output_type": "stream",
     "text": [
      "{'loss': 0.0103, 'grad_norm': 0.11094261705875397, 'learning_rate': 2.5869894099848714e-06, 'epoch': 2.56}\n"
     ]
    },
    {
     "name": "stderr",
     "output_type": "stream",
     "text": [
      " 86%|████████▌ | 1001/1161 [04:44<00:19,  8.37it/s]"
     ]
    },
    {
     "name": "stdout",
     "output_type": "stream",
     "text": [
      "{'loss': 0.0186, 'grad_norm': 0.11165769398212433, 'learning_rate': 2.4357034795763994e-06, 'epoch': 2.58}\n"
     ]
    },
    {
     "name": "stderr",
     "output_type": "stream",
     "text": [
      " 87%|████████▋ | 1011/1161 [04:45<00:18,  8.28it/s]"
     ]
    },
    {
     "name": "stdout",
     "output_type": "stream",
     "text": [
      "{'loss': 0.0109, 'grad_norm': 0.09279477596282959, 'learning_rate': 2.284417549167928e-06, 'epoch': 2.61}\n"
     ]
    },
    {
     "name": "stderr",
     "output_type": "stream",
     "text": [
      " 88%|████████▊ | 1021/1161 [04:46<00:16,  8.40it/s]"
     ]
    },
    {
     "name": "stdout",
     "output_type": "stream",
     "text": [
      "{'loss': 0.0113, 'grad_norm': 0.0767713338136673, 'learning_rate': 2.1331316187594558e-06, 'epoch': 2.64}\n"
     ]
    },
    {
     "name": "stderr",
     "output_type": "stream",
     "text": [
      " 89%|████████▉ | 1031/1161 [04:47<00:15,  8.29it/s]"
     ]
    },
    {
     "name": "stdout",
     "output_type": "stream",
     "text": [
      "{'loss': 0.0114, 'grad_norm': 0.11378929764032364, 'learning_rate': 1.9818456883509833e-06, 'epoch': 2.66}\n"
     ]
    },
    {
     "name": "stderr",
     "output_type": "stream",
     "text": [
      " 90%|████████▉ | 1041/1161 [04:48<00:14,  8.31it/s]"
     ]
    },
    {
     "name": "stdout",
     "output_type": "stream",
     "text": [
      "{'loss': 0.0133, 'grad_norm': 7.695567607879639, 'learning_rate': 1.8305597579425117e-06, 'epoch': 2.69}\n"
     ]
    },
    {
     "name": "stderr",
     "output_type": "stream",
     "text": [
      " 91%|█████████ | 1051/1161 [04:50<00:13,  8.39it/s]"
     ]
    },
    {
     "name": "stdout",
     "output_type": "stream",
     "text": [
      "{'loss': 0.0106, 'grad_norm': 0.09800669550895691, 'learning_rate': 1.6792738275340394e-06, 'epoch': 2.71}\n"
     ]
    },
    {
     "name": "stderr",
     "output_type": "stream",
     "text": [
      " 91%|█████████▏| 1060/1161 [04:51<00:12,  8.32it/s]"
     ]
    },
    {
     "name": "stdout",
     "output_type": "stream",
     "text": [
      "{'loss': 0.0104, 'grad_norm': 0.08725560456514359, 'learning_rate': 1.5279878971255674e-06, 'epoch': 2.74}\n"
     ]
    },
    {
     "name": "stderr",
     "output_type": "stream",
     "text": [
      " 92%|█████████▏| 1070/1161 [04:52<00:10,  8.49it/s]"
     ]
    },
    {
     "name": "stdout",
     "output_type": "stream",
     "text": [
      "{'loss': 0.0106, 'grad_norm': 0.09065096825361252, 'learning_rate': 1.3767019667170956e-06, 'epoch': 2.76}\n"
     ]
    },
    {
     "name": "stderr",
     "output_type": "stream",
     "text": [
      " 93%|█████████▎| 1080/1161 [04:53<00:09,  8.47it/s]"
     ]
    },
    {
     "name": "stdout",
     "output_type": "stream",
     "text": [
      "{'loss': 0.0109, 'grad_norm': 0.10419528186321259, 'learning_rate': 1.2254160363086235e-06, 'epoch': 2.79}\n"
     ]
    },
    {
     "name": "stderr",
     "output_type": "stream",
     "text": [
      " 94%|█████████▍| 1090/1161 [04:54<00:08,  8.35it/s]"
     ]
    },
    {
     "name": "stdout",
     "output_type": "stream",
     "text": [
      "{'loss': 0.0112, 'grad_norm': 0.07204824686050415, 'learning_rate': 1.0741301059001513e-06, 'epoch': 2.82}\n"
     ]
    },
    {
     "name": "stderr",
     "output_type": "stream",
     "text": [
      " 95%|█████████▍| 1100/1161 [04:55<00:07,  8.17it/s]"
     ]
    },
    {
     "name": "stdout",
     "output_type": "stream",
     "text": [
      "{'loss': 0.0097, 'grad_norm': 0.0795566588640213, 'learning_rate': 9.228441754916794e-07, 'epoch': 2.84}\n"
     ]
    },
    {
     "name": "stderr",
     "output_type": "stream",
     "text": [
      " 96%|█████████▌| 1110/1161 [04:57<00:06,  8.38it/s]"
     ]
    },
    {
     "name": "stdout",
     "output_type": "stream",
     "text": [
      "{'loss': 0.0112, 'grad_norm': 0.08621450513601303, 'learning_rate': 7.715582450832073e-07, 'epoch': 2.87}\n"
     ]
    },
    {
     "name": "stderr",
     "output_type": "stream",
     "text": [
      " 96%|█████████▋| 1120/1161 [04:58<00:04,  8.42it/s]"
     ]
    },
    {
     "name": "stdout",
     "output_type": "stream",
     "text": [
      "{'loss': 0.0424, 'grad_norm': 6.119118690490723, 'learning_rate': 6.202723146747353e-07, 'epoch': 2.89}\n"
     ]
    },
    {
     "name": "stderr",
     "output_type": "stream",
     "text": [
      " 97%|█████████▋| 1130/1161 [04:59<00:03,  8.48it/s]"
     ]
    },
    {
     "name": "stdout",
     "output_type": "stream",
     "text": [
      "{'loss': 0.0109, 'grad_norm': 0.12735295295715332, 'learning_rate': 4.689863842662633e-07, 'epoch': 2.92}\n"
     ]
    },
    {
     "name": "stderr",
     "output_type": "stream",
     "text": [
      " 98%|█████████▊| 1140/1161 [05:00<00:02,  8.30it/s]"
     ]
    },
    {
     "name": "stdout",
     "output_type": "stream",
     "text": [
      "{'loss': 0.0428, 'grad_norm': 0.13719789683818817, 'learning_rate': 3.177004538577912e-07, 'epoch': 2.95}\n"
     ]
    },
    {
     "name": "stderr",
     "output_type": "stream",
     "text": [
      " 99%|█████████▉| 1150/1161 [05:01<00:01,  8.29it/s]"
     ]
    },
    {
     "name": "stdout",
     "output_type": "stream",
     "text": [
      "{'loss': 0.0106, 'grad_norm': 0.10959307104349136, 'learning_rate': 1.6641452344931923e-07, 'epoch': 2.97}\n"
     ]
    },
    {
     "name": "stderr",
     "output_type": "stream",
     "text": [
      "100%|█████████▉| 1160/1161 [05:03<00:00,  8.28it/s]"
     ]
    },
    {
     "name": "stdout",
     "output_type": "stream",
     "text": [
      "{'loss': 0.0108, 'grad_norm': 0.10437607020139694, 'learning_rate': 1.5128593040847203e-08, 'epoch': 3.0}\n"
     ]
    },
    {
     "name": "stderr",
     "output_type": "stream",
     "text": [
      "100%|██████████| 1161/1161 [05:03<00:00,  8.24it/s]\n",
      "  0%|          | 0/27 [00:00<?, ?it/s]\u001b[A\n",
      " 19%|█▊        | 5/27 [00:00<00:00, 44.16it/s]\u001b[A\n",
      " 37%|███▋      | 10/27 [00:00<00:00, 38.71it/s]\u001b[A\n",
      " 52%|█████▏    | 14/27 [00:00<00:00, 36.30it/s]\u001b[A\n",
      " 67%|██████▋   | 18/27 [00:00<00:00, 35.83it/s]\u001b[A\n",
      " 81%|████████▏ | 22/27 [00:00<00:00, 35.55it/s]\u001b[A\n",
      "                                                   \n",
      "100%|██████████| 1161/1161 [05:04<00:00,  8.24it/s]\n",
      "100%|██████████| 27/27 [00:00<00:00, 35.44it/s]\u001b[A\n",
      "                                               \u001b[A"
     ]
    },
    {
     "name": "stdout",
     "output_type": "stream",
     "text": [
      "{'eval_loss': 1.2888023853302002, 'eval_runtime': 0.773, 'eval_samples_per_second': 540.742, 'eval_steps_per_second': 34.928, 'epoch': 3.0}\n"
     ]
    },
    {
     "name": "stderr",
     "output_type": "stream",
     "text": [
      "100%|██████████| 1161/1161 [06:36<00:00,  2.93it/s]"
     ]
    },
    {
     "name": "stdout",
     "output_type": "stream",
     "text": [
      "{'train_runtime': 396.5104, 'train_samples_per_second': 46.826, 'train_steps_per_second': 2.928, 'train_loss': 0.6486896917698817, 'epoch': 3.0}\n"
     ]
    },
    {
     "name": "stderr",
     "output_type": "stream",
     "text": [
      "\n",
      "100%|██████████| 27/27 [00:00<00:00, 36.30it/s]\n"
     ]
    },
    {
     "name": "stdout",
     "output_type": "stream",
     "text": [
      "                   precision    recall  f1-score   support\n",
      "\n",
      "statement_general       0.96      1.00      0.98        43\n",
      "             dorm       0.88      1.00      0.93        49\n",
      "           events       0.97      0.72      0.82        39\n",
      "        finassist       0.84      0.96      0.90        49\n",
      "            grade       1.00      0.50      0.67        14\n",
      "              loc       0.84      0.84      0.84        85\n",
      "         military       0.67      0.80      0.73        20\n",
      "         holidays       0.71      0.42      0.53        12\n",
      "              pay       0.96      0.81      0.88        31\n",
      "         schedule       0.92      1.00      0.96        76\n",
      "\n",
      "         accuracy                           0.88       418\n",
      "        macro avg       0.87      0.80      0.82       418\n",
      "     weighted avg       0.88      0.88      0.87       418\n",
      "\n"
     ]
    },
    {
     "data": {
      "image/png": "[encoded data removed]",
      "text/plain": [
       "<Figure size 1000x800 with 2 Axes>"
      ]
     },
     "metadata": {},
     "output_type": "display_data"
    },
    {
     "data": {
      "image/png": "[encoded data removed]",
      "text/plain": [
       "<Figure size 1000x800 with 1 Axes>"
      ]
     },
     "metadata": {},
     "output_type": "display_data"
    }
   ],
   "source": [
    "# Определение класса CustomTrainer\n",
    "class CustomTrainer(Trainer):\n",
    "    def compute_loss(self, model, inputs, return_outputs=False):\n",
    "        labels = inputs.get(\"labels\").to(self.args.device)\n",
    "        outputs = model(**inputs)\n",
    "        logits = outputs.get(\"logits\")\n",
    "        loss_fct = torch.nn.CrossEntropyLoss(weight=class_weights.to(self.args.device))\n",
    "        loss = loss_fct(logits.view(-1, model.config.num_labels), labels.view(-1))\n",
    "        return (loss, outputs) if return_outputs else loss\n",
    "\n",
    "# Определение устройства (CPU или GPU)\n",
    "device = torch.device(\"cuda\" if torch.cuda.is_available() else \"cpu\")\n",
    "\n",
    "# Определение и обучение модели BERT\n",
    "tokenizer = BertTokenizer.from_pretrained('bert-base-multilingual-cased')\n",
    "model = BertForSequenceClassification.from_pretrained('bert-base-multilingual-cased', num_labels=10).to(device)\n",
    "\n",
    "train_dataset, train_labels = convert_to_dataset(train_data, tokenizer)\n",
    "test_dataset, test_labels = convert_to_dataset(test_data, tokenizer)\n",
    "\n",
    "# Проверка меток на валидность\n",
    "assert all(0 <= label < 10 for label in train_labels), \"Ошибка: Некорректные метки в обучающем наборе\"\n",
    "assert all(0 <= label < 10 for label in test_labels), \"Ошибка: Некорректные метки в тестовом наборе\"\n",
    "\n",
    "\n",
    "training_args = TrainingArguments(\n",
    "    output_dir='./results',\n",
    "    num_train_epochs=3,\n",
    "    per_device_train_batch_size=16,\n",
    "    per_device_eval_batch_size=16,\n",
    "    warmup_steps=500,\n",
    "    weight_decay=0.01,\n",
    "    learning_rate=1e-5,\n",
    "    logging_dir='./logs',\n",
    "    logging_steps=10,\n",
    "    save_strategy='epoch',\n",
    "    evaluation_strategy='epoch',\n",
    "    lr_scheduler_type='linear'\n",
    ")\n",
    "\n",
    "data_collator = DataCollatorWithPadding(tokenizer=tokenizer)\n",
    "\n",
    "class_weights = compute_class_weights(train_labels)\n",
    "\n",
    "trainer = CustomTrainer(\n",
    "    model=model,\n",
    "    args=training_args,\n",
    "    train_dataset=train_dataset,\n",
    "    eval_dataset=test_dataset,\n",
    "    data_collator=data_collator,\n",
    ")\n",
    "\n",
    "trainer.train()\n",
    "\n",
    "trainer.save_model('best_model_bert_with_preprocess3')\n",
    "tokenizer.save_pretrained('best_model_bert_with_preprocess3')\n",
    "\n",
    "predictions = trainer.predict(test_dataset)\n",
    "y_pred = np.argmax(predictions.predictions, axis=1)\n",
    "print(classification_report(test_labels, y_pred, target_names=list(ReplaceDict.keys())))\n",
    "\n",
    "plot_confusion_matrix(test_labels, y_pred, classes=list(ReplaceDict.keys()))\n",
    "\n",
    "plot_training_loss(trainer.state, title='BERT Training and Validation Loss')\n"
   ]
  },
  {
   "cell_type": "markdown",
   "id": "-4gITBDamh-j",
   "metadata": {
    "id": "-4gITBDamh-j"
   },
   "source": [
    "## Old"
   ]
  },
  {
   "cell_type": "code",
   "execution_count": null,
   "id": "b4d3ded0-f88c-41c7-a086-39100c8f8308",
   "metadata": {
    "id": "b4d3ded0-f88c-41c7-a086-39100c8f8308"
   },
   "outputs": [],
   "source": [
    "# # Определение и обучение модели BERT\n",
    "# tokenizer = BertTokenizer.from_pretrained('bert-base-multilingual-cased')\n",
    "# model = BertForSequenceClassification.from_pretrained('bert-base-multilingual-cased', num_labels=10)\n",
    "\n",
    "# train_dataset, train_labels = convert_to_dataset(train_data, tokenizer)\n",
    "# test_dataset, test_labels = convert_to_dataset(test_data, tokenizer)\n",
    "\n",
    "# training_args = TrainingArguments(\n",
    "#     output_dir='./results',\n",
    "#     num_train_epochs=3,\n",
    "#     per_device_train_batch_size=16,\n",
    "#     per_device_eval_batch_size=16,\n",
    "#     warmup_steps=500,\n",
    "#     weight_decay=0.01,\n",
    "#     logging_dir='./logs',\n",
    "#     logging_steps=10,\n",
    "#     save_strategy='epoch'\n",
    "# )\n",
    "\n",
    "# data_collator = DataCollatorWithPadding(tokenizer=tokenizer)\n",
    "\n",
    "# class_weights = compute_class_weights(train_labels)\n",
    "\n",
    "# def compute_loss(model, inputs, return_outputs=False):\n",
    "#     labels = inputs.get(\"labels\")\n",
    "#     outputs = model(**inputs)\n",
    "#     logits = outputs.get(\"logits\")\n",
    "#     loss_fct = torch.nn.CrossEntropyLoss(weight=class_weights)\n",
    "#     loss = loss_fct(logits.view(-1, model.config.num_labels), labels.view(-1))\n",
    "#     return (loss, outputs) if return_outputs else loss\n",
    "\n",
    "# trainer = Trainer(\n",
    "#     model=model,\n",
    "#     args=training_args,\n",
    "#     train_dataset=train_dataset,\n",
    "#     eval_dataset=test_dataset,\n",
    "#     data_collator=data_collator,\n",
    "#     compute_loss=compute_loss\n",
    "# )\n",
    "\n",
    "# trainer.train()\n",
    "\n",
    "# trainer.save_model('best_model_bert')\n",
    "\n",
    "# predictions = trainer.predict(test_dataset)\n",
    "# y_pred = np.argmax(predictions.predictions, axis=1)\n",
    "# print(classification_report(test_labels, y_pred, target_names=list(ReplaceDict.keys())))\n",
    "\n",
    "# plot_confusion_matrix(test_labels, y_pred, classes=list(ReplaceDict.keys()))\n",
    "\n",
    "# plot_training_loss(trainer.state, title='BERT Training and Validation Loss')"
   ]
  },
  {
   "cell_type": "code",
   "execution_count": null,
   "id": "19564a8e-cc0c-43fa-962a-0a9e31137bdb",
   "metadata": {
    "id": "19564a8e-cc0c-43fa-962a-0a9e31137bdb"
   },
   "outputs": [],
   "source": [
    "# # Определение и обучение модели RoBERTa\n",
    "# from transformers import RobertaTokenizer, RobertaForSequenceClassification\n",
    "\n",
    "# roberta_tokenizer = RobertaTokenizer.from_pretrained('roberta-base')\n",
    "# roberta_model = RobertaForSequenceClassification.from_pretrained('roberta-base', num_labels=10)\n",
    "\n",
    "# train_dataset, train_labels = convert_to_dataset(train_data, roberta_tokenizer)\n",
    "# test_dataset, test_labels = convert_to_dataset(test_data, roberta_tokenizer)\n",
    "\n",
    "# class_weights = compute_class_weights(train_labels)\n",
    "\n",
    "# def compute_loss(model, inputs, return_outputs=False):\n",
    "#     labels = inputs.get(\"labels\")\n",
    "#     outputs = model(**inputs)\n",
    "#     logits = outputs.get(\"logits\")\n",
    "#     loss_fct = torch.nn.CrossEntropyLoss(weight=class_weights)\n",
    "#     loss = loss_fct(logits.view(-1, model.config.num_labels), labels.view(-1))\n",
    "#     return (loss, outputs) if return_outputs else loss\n",
    "\n",
    "# roberta_trainer = Trainer(\n",
    "#     model=roberta_model,\n",
    "#     args=training_args,\n",
    "#     train_dataset=train_dataset,\n",
    "#     eval_dataset=test_dataset,\n",
    "#     data_collator=data_collator,\n",
    "#     compute_loss=compute_loss\n",
    "# )\n",
    "\n",
    "# roberta_trainer.train()\n",
    "\n",
    "# roberta_trainer.save_model('best_model_roberta')\n",
    "\n",
    "# roberta_predictions = roberta_trainer.predict(test_dataset)\n",
    "# y_pred = np.argmax(roberta_predictions.predictions, axis=1)\n",
    "# print(classification_report(test_labels, y_pred, target_names=list(ReplaceDict.keys())))\n",
    "\n",
    "# plot_confusion_matrix(test_labels, y_pred, classes=list(ReplaceDict.keys()))\n",
    "\n",
    "# plot_training_loss(roberta_trainer.state, title='RoBERTa Training and Validation Loss')"
   ]
  },
  {
   "cell_type": "code",
   "execution_count": null,
   "id": "bb13ec40-b4cb-492e-9a83-e245928a0402",
   "metadata": {
    "id": "bb13ec40-b4cb-492e-9a83-e245928a0402",
    "tags": []
   },
   "outputs": [],
   "source": [
    "# # Определение и обучение модели DistilBERT\n",
    "# from transformers import DistilBertForSequenceClassification\n",
    "\n",
    "# distilbert_model = DistilBertForSequenceClassification.from_pretrained('distilbert-base-multilingual-cased', num_labels=10)\n",
    "\n",
    "# train_dataset, train_labels = convert_to_dataset(train_data, tokenizer)\n",
    "# test_dataset, test_labels = convert_to_dataset(test_data, tokenizer)\n",
    "\n",
    "# class_weights = compute_class_weights(train_labels)\n",
    "\n",
    "# def compute_loss(model, inputs, return_outputs=False):\n",
    "#     labels = inputs.get(\"labels\")\n",
    "#     outputs = model(**inputs)\n",
    "#     logits = outputs.get(\"logits\")\n",
    "#     loss_fct = torch.nn.CrossEntropyLoss(weight=class_weights)\n",
    "#     loss = loss_fct(logits.view(-1, model.config.num_labels), labels.view(-1))\n",
    "#     return (loss, outputs) if return_outputs else loss\n",
    "\n",
    "# distilbert_trainer = Trainer(\n",
    "#     model=distilbert_model,\n",
    "#     args=training_args,\n",
    "#     train_dataset=train_dataset,\n",
    "#     eval_dataset=test_dataset,\n",
    "#     data_collator=data_collator,\n",
    "#     compute_loss=compute_loss\n",
    "# )\n",
    "\n",
    "# distilbert_trainer.train()\n",
    "\n",
    "# distilbert_trainer.save_model('best_model_distilbert')\n",
    "\n",
    "# distilbert_predictions = distilbert_trainer.predict(test_dataset)\n",
    "# y_pred = np.argmax(distilbert_predictions.predictions, axis=1)\n",
    "# print(classification_report(test_labels, y_pred, target_names=list(ReplaceDict.keys())))\n",
    "\n",
    "# plot_confusion_matrix(test_labels, y_pred, classes=list(ReplaceDict.keys()))\n",
    "\n",
    "# plot_training_loss(distilbert_trainer.state, title='DistilBERT Training and Validation Loss')\n"
   ]
  }
 ],
 "metadata": {
  "accelerator": "GPU",
  "colab": {
   "gpuType": "T4",
   "provenance": []
  },
  "kernelspec": {
   "display_name": "DataSphere Kernel",
   "language": "python",
   "name": "python3"
  },
  "language_info": {
   "codemirror_mode": {
    "name": "ipython",
    "version": 3
   },
   "file_extension": ".py",
   "mimetype": "text/x-python",
   "name": "python",
   "nbconvert_exporter": "python",
   "pygments_lexer": "ipython3",
   "version": "3.10.12"
  },
  "widgets": {
   "application/vnd.jupyter.widget-state+json": {
    "04ad4790c0f8485ca42bd2e8e5d468ba": {
     "model_module": "@jupyter-widgets/base",
     "model_module_version": "1.2.0",
     "model_name": "LayoutModel",
     "state": {
      "_model_module": "@jupyter-widgets/base",
      "_model_module_version": "1.2.0",
      "_model_name": "LayoutModel",
      "_view_count": null,
      "_view_module": "@jupyter-widgets/base",
      "_view_module_version": "1.2.0",
      "_view_name": "LayoutView",
      "align_content": null,
      "align_items": null,
      "align_self": null,
      "border": null,
      "bottom": null,
      "display": null,
      "flex": null,
      "flex_flow": null,
      "grid_area": null,
      "grid_auto_columns": null,
      "grid_auto_flow": null,
      "grid_auto_rows": null,
      "grid_column": null,
      "grid_gap": null,
      "grid_row": null,
      "grid_template_areas": null,
      "grid_template_columns": null,
      "grid_template_rows": null,
      "height": null,
      "justify_content": null,
      "justify_items": null,
      "left": null,
      "margin": null,
      "max_height": null,
      "max_width": null,
      "min_height": null,
      "min_width": null,
      "object_fit": null,
      "object_position": null,
      "order": null,
      "overflow": null,
      "overflow_x": null,
      "overflow_y": null,
      "padding": null,
      "right": null,
      "top": null,
      "visibility": null,
      "width": null
     }
    },
    "0cefb53940ab42d296d1742d522f3d3a": {
     "model_module": "@jupyter-widgets/controls",
     "model_module_version": "1.5.0",
     "model_name": "HTMLModel",
     "state": {
      "_dom_classes": [],
      "_model_module": "@jupyter-widgets/controls",
      "_model_module_version": "1.5.0",
      "_model_name": "HTMLModel",
      "_view_count": null,
      "_view_module": "@jupyter-widgets/controls",
      "_view_module_version": "1.5.0",
      "_view_name": "HTMLView",
      "description": "",
      "description_tooltip": null,
      "layout": "IPY_MODEL_3bfa6f4baff44b4cabe4990d3d13f9c7",
      "placeholder": "​",
      "style": "IPY_MODEL_a20b8dcf40e54d848859f5a8fb8fbf1a",
      "value": "tokenizer_config.json: 100%"
     }
    },
    "1227c2fb4c8e4a209765ceaf3d4577cb": {
     "model_module": "@jupyter-widgets/controls",
     "model_module_version": "1.5.0",
     "model_name": "DescriptionStyleModel",
     "state": {
      "_model_module": "@jupyter-widgets/controls",
      "_model_module_version": "1.5.0",
      "_model_name": "DescriptionStyleModel",
      "_view_count": null,
      "_view_module": "@jupyter-widgets/base",
      "_view_module_version": "1.2.0",
      "_view_name": "StyleView",
      "description_width": ""
     }
    },
    "127d612bf260449fb915779d648e7cf6": {
     "model_module": "@jupyter-widgets/controls",
     "model_module_version": "1.5.0",
     "model_name": "HTMLModel",
     "state": {
      "_dom_classes": [],
      "_model_module": "@jupyter-widgets/controls",
      "_model_module_version": "1.5.0",
      "_model_name": "HTMLModel",
      "_view_count": null,
      "_view_module": "@jupyter-widgets/controls",
      "_view_module_version": "1.5.0",
      "_view_name": "HTMLView",
      "description": "",
      "description_tooltip": null,
      "layout": "IPY_MODEL_22299b4eeecc49739d9cc01989113388",
      "placeholder": "​",
      "style": "IPY_MODEL_5cd58908833445018a886da621449d9d",
      "value": " 996k/996k [00:00&lt;00:00, 3.27MB/s]"
     }
    },
    "152292bdd4d54bd59656f41bb1df63c1": {
     "model_module": "@jupyter-widgets/controls",
     "model_module_version": "1.5.0",
     "model_name": "ProgressStyleModel",
     "state": {
      "_model_module": "@jupyter-widgets/controls",
      "_model_module_version": "1.5.0",
      "_model_name": "ProgressStyleModel",
      "_view_count": null,
      "_view_module": "@jupyter-widgets/base",
      "_view_module_version": "1.2.0",
      "_view_name": "StyleView",
      "bar_color": null,
      "description_width": ""
     }
    },
    "154bfd3893e342258c32b0af48b0ed47": {
     "model_module": "@jupyter-widgets/base",
     "model_module_version": "1.2.0",
     "model_name": "LayoutModel",
     "state": {
      "_model_module": "@jupyter-widgets/base",
      "_model_module_version": "1.2.0",
      "_model_name": "LayoutModel",
      "_view_count": null,
      "_view_module": "@jupyter-widgets/base",
      "_view_module_version": "1.2.0",
      "_view_name": "LayoutView",
      "align_content": null,
      "align_items": null,
      "align_self": null,
      "border": null,
      "bottom": null,
      "display": null,
      "flex": null,
      "flex_flow": null,
      "grid_area": null,
      "grid_auto_columns": null,
      "grid_auto_flow": null,
      "grid_auto_rows": null,
      "grid_column": null,
      "grid_gap": null,
      "grid_row": null,
      "grid_template_areas": null,
      "grid_template_columns": null,
      "grid_template_rows": null,
      "height": null,
      "justify_content": null,
      "justify_items": null,
      "left": null,
      "margin": null,
      "max_height": null,
      "max_width": null,
      "min_height": null,
      "min_width": null,
      "object_fit": null,
      "object_position": null,
      "order": null,
      "overflow": null,
      "overflow_x": null,
      "overflow_y": null,
      "padding": null,
      "right": null,
      "top": null,
      "visibility": null,
      "width": null
     }
    },
    "22299b4eeecc49739d9cc01989113388": {
     "model_module": "@jupyter-widgets/base",
     "model_module_version": "1.2.0",
     "model_name": "LayoutModel",
     "state": {
      "_model_module": "@jupyter-widgets/base",
      "_model_module_version": "1.2.0",
      "_model_name": "LayoutModel",
      "_view_count": null,
      "_view_module": "@jupyter-widgets/base",
      "_view_module_version": "1.2.0",
      "_view_name": "LayoutView",
      "align_content": null,
      "align_items": null,
      "align_self": null,
      "border": null,
      "bottom": null,
      "display": null,
      "flex": null,
      "flex_flow": null,
      "grid_area": null,
      "grid_auto_columns": null,
      "grid_auto_flow": null,
      "grid_auto_rows": null,
      "grid_column": null,
      "grid_gap": null,
      "grid_row": null,
      "grid_template_areas": null,
      "grid_template_columns": null,
      "grid_template_rows": null,
      "height": null,
      "justify_content": null,
      "justify_items": null,
      "left": null,
      "margin": null,
      "max_height": null,
      "max_width": null,
      "min_height": null,
      "min_width": null,
      "object_fit": null,
      "object_position": null,
      "order": null,
      "overflow": null,
      "overflow_x": null,
      "overflow_y": null,
      "padding": null,
      "right": null,
      "top": null,
      "visibility": null,
      "width": null
     }
    },
    "24100595d64a4da4bc841bda45a74be3": {
     "model_module": "@jupyter-widgets/controls",
     "model_module_version": "1.5.0",
     "model_name": "HTMLModel",
     "state": {
      "_dom_classes": [],
      "_model_module": "@jupyter-widgets/controls",
      "_model_module_version": "1.5.0",
      "_model_name": "HTMLModel",
      "_view_count": null,
      "_view_module": "@jupyter-widgets/controls",
      "_view_module_version": "1.5.0",
      "_view_name": "HTMLView",
      "description": "",
      "description_tooltip": null,
      "layout": "IPY_MODEL_e86e72a85be54dfd9560803c0b9ff594",
      "placeholder": "​",
      "style": "IPY_MODEL_c8da29a211fa47a395dfc8e5a01d1b45",
      "value": " 1.96M/1.96M [00:00&lt;00:00, 12.9MB/s]"
     }
    },
    "24fa38ac37a947cd82f8f9d55375359a": {
     "model_module": "@jupyter-widgets/controls",
     "model_module_version": "1.5.0",
     "model_name": "DescriptionStyleModel",
     "state": {
      "_model_module": "@jupyter-widgets/controls",
      "_model_module_version": "1.5.0",
      "_model_name": "DescriptionStyleModel",
      "_view_count": null,
      "_view_module": "@jupyter-widgets/base",
      "_view_module_version": "1.2.0",
      "_view_name": "StyleView",
      "description_width": ""
     }
    },
    "2793115c0a2a40fda4132fe6e1036c5d": {
     "model_module": "@jupyter-widgets/controls",
     "model_module_version": "1.5.0",
     "model_name": "ProgressStyleModel",
     "state": {
      "_model_module": "@jupyter-widgets/controls",
      "_model_module_version": "1.5.0",
      "_model_name": "ProgressStyleModel",
      "_view_count": null,
      "_view_module": "@jupyter-widgets/base",
      "_view_module_version": "1.2.0",
      "_view_name": "StyleView",
      "bar_color": null,
      "description_width": ""
     }
    },
    "3768de0c6ef24f26810ade10a925132a": {
     "model_module": "@jupyter-widgets/base",
     "model_module_version": "1.2.0",
     "model_name": "LayoutModel",
     "state": {
      "_model_module": "@jupyter-widgets/base",
      "_model_module_version": "1.2.0",
      "_model_name": "LayoutModel",
      "_view_count": null,
      "_view_module": "@jupyter-widgets/base",
      "_view_module_version": "1.2.0",
      "_view_name": "LayoutView",
      "align_content": null,
      "align_items": null,
      "align_self": null,
      "border": null,
      "bottom": null,
      "display": null,
      "flex": null,
      "flex_flow": null,
      "grid_area": null,
      "grid_auto_columns": null,
      "grid_auto_flow": null,
      "grid_auto_rows": null,
      "grid_column": null,
      "grid_gap": null,
      "grid_row": null,
      "grid_template_areas": null,
      "grid_template_columns": null,
      "grid_template_rows": null,
      "height": null,
      "justify_content": null,
      "justify_items": null,
      "left": null,
      "margin": null,
      "max_height": null,
      "max_width": null,
      "min_height": null,
      "min_width": null,
      "object_fit": null,
      "object_position": null,
      "order": null,
      "overflow": null,
      "overflow_x": null,
      "overflow_y": null,
      "padding": null,
      "right": null,
      "top": null,
      "visibility": null,
      "width": null
     }
    },
    "3bfa6f4baff44b4cabe4990d3d13f9c7": {
     "model_module": "@jupyter-widgets/base",
     "model_module_version": "1.2.0",
     "model_name": "LayoutModel",
     "state": {
      "_model_module": "@jupyter-widgets/base",
      "_model_module_version": "1.2.0",
      "_model_name": "LayoutModel",
      "_view_count": null,
      "_view_module": "@jupyter-widgets/base",
      "_view_module_version": "1.2.0",
      "_view_name": "LayoutView",
      "align_content": null,
      "align_items": null,
      "align_self": null,
      "border": null,
      "bottom": null,
      "display": null,
      "flex": null,
      "flex_flow": null,
      "grid_area": null,
      "grid_auto_columns": null,
      "grid_auto_flow": null,
      "grid_auto_rows": null,
      "grid_column": null,
      "grid_gap": null,
      "grid_row": null,
      "grid_template_areas": null,
      "grid_template_columns": null,
      "grid_template_rows": null,
      "height": null,
      "justify_content": null,
      "justify_items": null,
      "left": null,
      "margin": null,
      "max_height": null,
      "max_width": null,
      "min_height": null,
      "min_width": null,
      "object_fit": null,
      "object_position": null,
      "order": null,
      "overflow": null,
      "overflow_x": null,
      "overflow_y": null,
      "padding": null,
      "right": null,
      "top": null,
      "visibility": null,
      "width": null
     }
    },
    "4997d08e88ae4e6b9f28fc8c133d6ac2": {
     "model_module": "@jupyter-widgets/controls",
     "model_module_version": "1.5.0",
     "model_name": "FloatProgressModel",
     "state": {
      "_dom_classes": [],
      "_model_module": "@jupyter-widgets/controls",
      "_model_module_version": "1.5.0",
      "_model_name": "FloatProgressModel",
      "_view_count": null,
      "_view_module": "@jupyter-widgets/controls",
      "_view_module_version": "1.5.0",
      "_view_name": "ProgressView",
      "bar_style": "success",
      "description": "",
      "description_tooltip": null,
      "layout": "IPY_MODEL_923924fbf9ca4f01b69be8b5ab401f8d",
      "max": 714290682,
      "min": 0,
      "orientation": "horizontal",
      "style": "IPY_MODEL_d5cfc95b25bb41a9813d890a36f00d94",
      "value": 714290682
     }
    },
    "5041a81ac5684e66adc6b6d9e63d288b": {
     "model_module": "@jupyter-widgets/controls",
     "model_module_version": "1.5.0",
     "model_name": "FloatProgressModel",
     "state": {
      "_dom_classes": [],
      "_model_module": "@jupyter-widgets/controls",
      "_model_module_version": "1.5.0",
      "_model_name": "FloatProgressModel",
      "_view_count": null,
      "_view_module": "@jupyter-widgets/controls",
      "_view_module_version": "1.5.0",
      "_view_name": "ProgressView",
      "bar_style": "success",
      "description": "",
      "description_tooltip": null,
      "layout": "IPY_MODEL_76f14be749834854ab8cf11364d1b4e4",
      "max": 1961828,
      "min": 0,
      "orientation": "horizontal",
      "style": "IPY_MODEL_2793115c0a2a40fda4132fe6e1036c5d",
      "value": 1961828
     }
    },
    "50465097e76f45afaa938c96981e08ea": {
     "model_module": "@jupyter-widgets/controls",
     "model_module_version": "1.5.0",
     "model_name": "DescriptionStyleModel",
     "state": {
      "_model_module": "@jupyter-widgets/controls",
      "_model_module_version": "1.5.0",
      "_model_name": "DescriptionStyleModel",
      "_view_count": null,
      "_view_module": "@jupyter-widgets/base",
      "_view_module_version": "1.2.0",
      "_view_name": "StyleView",
      "description_width": ""
     }
    },
    "50f1a34c49c54d59905197652574fdf4": {
     "model_module": "@jupyter-widgets/base",
     "model_module_version": "1.2.0",
     "model_name": "LayoutModel",
     "state": {
      "_model_module": "@jupyter-widgets/base",
      "_model_module_version": "1.2.0",
      "_model_name": "LayoutModel",
      "_view_count": null,
      "_view_module": "@jupyter-widgets/base",
      "_view_module_version": "1.2.0",
      "_view_name": "LayoutView",
      "align_content": null,
      "align_items": null,
      "align_self": null,
      "border": null,
      "bottom": null,
      "display": null,
      "flex": null,
      "flex_flow": null,
      "grid_area": null,
      "grid_auto_columns": null,
      "grid_auto_flow": null,
      "grid_auto_rows": null,
      "grid_column": null,
      "grid_gap": null,
      "grid_row": null,
      "grid_template_areas": null,
      "grid_template_columns": null,
      "grid_template_rows": null,
      "height": null,
      "justify_content": null,
      "justify_items": null,
      "left": null,
      "margin": null,
      "max_height": null,
      "max_width": null,
      "min_height": null,
      "min_width": null,
      "object_fit": null,
      "object_position": null,
      "order": null,
      "overflow": null,
      "overflow_x": null,
      "overflow_y": null,
      "padding": null,
      "right": null,
      "top": null,
      "visibility": null,
      "width": null
     }
    },
    "55dbb577e80d4bdf959f4a9591295174": {
     "model_module": "@jupyter-widgets/controls",
     "model_module_version": "1.5.0",
     "model_name": "HBoxModel",
     "state": {
      "_dom_classes": [],
      "_model_module": "@jupyter-widgets/controls",
      "_model_module_version": "1.5.0",
      "_model_name": "HBoxModel",
      "_view_count": null,
      "_view_module": "@jupyter-widgets/controls",
      "_view_module_version": "1.5.0",
      "_view_name": "HBoxView",
      "box_style": "",
      "children": [
       "IPY_MODEL_c44e65d70c594654a9bf6b4750850312",
       "IPY_MODEL_93095e0e62d242fba10b45653367292b",
       "IPY_MODEL_127d612bf260449fb915779d648e7cf6"
      ],
      "layout": "IPY_MODEL_bc605fb0bf5e4b359a7bec130bea0c2d"
     }
    },
    "5ba9646e94be4624be1df2bf74ca0413": {
     "model_module": "@jupyter-widgets/base",
     "model_module_version": "1.2.0",
     "model_name": "LayoutModel",
     "state": {
      "_model_module": "@jupyter-widgets/base",
      "_model_module_version": "1.2.0",
      "_model_name": "LayoutModel",
      "_view_count": null,
      "_view_module": "@jupyter-widgets/base",
      "_view_module_version": "1.2.0",
      "_view_name": "LayoutView",
      "align_content": null,
      "align_items": null,
      "align_self": null,
      "border": null,
      "bottom": null,
      "display": null,
      "flex": null,
      "flex_flow": null,
      "grid_area": null,
      "grid_auto_columns": null,
      "grid_auto_flow": null,
      "grid_auto_rows": null,
      "grid_column": null,
      "grid_gap": null,
      "grid_row": null,
      "grid_template_areas": null,
      "grid_template_columns": null,
      "grid_template_rows": null,
      "height": null,
      "justify_content": null,
      "justify_items": null,
      "left": null,
      "margin": null,
      "max_height": null,
      "max_width": null,
      "min_height": null,
      "min_width": null,
      "object_fit": null,
      "object_position": null,
      "order": null,
      "overflow": null,
      "overflow_x": null,
      "overflow_y": null,
      "padding": null,
      "right": null,
      "top": null,
      "visibility": null,
      "width": null
     }
    },
    "5cd58908833445018a886da621449d9d": {
     "model_module": "@jupyter-widgets/controls",
     "model_module_version": "1.5.0",
     "model_name": "DescriptionStyleModel",
     "state": {
      "_model_module": "@jupyter-widgets/controls",
      "_model_module_version": "1.5.0",
      "_model_name": "DescriptionStyleModel",
      "_view_count": null,
      "_view_module": "@jupyter-widgets/base",
      "_view_module_version": "1.2.0",
      "_view_name": "StyleView",
      "description_width": ""
     }
    },
    "67ee7aab9ad145bca55168c3ac2728e9": {
     "model_module": "@jupyter-widgets/base",
     "model_module_version": "1.2.0",
     "model_name": "LayoutModel",
     "state": {
      "_model_module": "@jupyter-widgets/base",
      "_model_module_version": "1.2.0",
      "_model_name": "LayoutModel",
      "_view_count": null,
      "_view_module": "@jupyter-widgets/base",
      "_view_module_version": "1.2.0",
      "_view_name": "LayoutView",
      "align_content": null,
      "align_items": null,
      "align_self": null,
      "border": null,
      "bottom": null,
      "display": null,
      "flex": null,
      "flex_flow": null,
      "grid_area": null,
      "grid_auto_columns": null,
      "grid_auto_flow": null,
      "grid_auto_rows": null,
      "grid_column": null,
      "grid_gap": null,
      "grid_row": null,
      "grid_template_areas": null,
      "grid_template_columns": null,
      "grid_template_rows": null,
      "height": null,
      "justify_content": null,
      "justify_items": null,
      "left": null,
      "margin": null,
      "max_height": null,
      "max_width": null,
      "min_height": null,
      "min_width": null,
      "object_fit": null,
      "object_position": null,
      "order": null,
      "overflow": null,
      "overflow_x": null,
      "overflow_y": null,
      "padding": null,
      "right": null,
      "top": null,
      "visibility": null,
      "width": null
     }
    },
    "6bc391b8d7bc4ddeaf2644979e3ad217": {
     "model_module": "@jupyter-widgets/base",
     "model_module_version": "1.2.0",
     "model_name": "LayoutModel",
     "state": {
      "_model_module": "@jupyter-widgets/base",
      "_model_module_version": "1.2.0",
      "_model_name": "LayoutModel",
      "_view_count": null,
      "_view_module": "@jupyter-widgets/base",
      "_view_module_version": "1.2.0",
      "_view_name": "LayoutView",
      "align_content": null,
      "align_items": null,
      "align_self": null,
      "border": null,
      "bottom": null,
      "display": null,
      "flex": null,
      "flex_flow": null,
      "grid_area": null,
      "grid_auto_columns": null,
      "grid_auto_flow": null,
      "grid_auto_rows": null,
      "grid_column": null,
      "grid_gap": null,
      "grid_row": null,
      "grid_template_areas": null,
      "grid_template_columns": null,
      "grid_template_rows": null,
      "height": null,
      "justify_content": null,
      "justify_items": null,
      "left": null,
      "margin": null,
      "max_height": null,
      "max_width": null,
      "min_height": null,
      "min_width": null,
      "object_fit": null,
      "object_position": null,
      "order": null,
      "overflow": null,
      "overflow_x": null,
      "overflow_y": null,
      "padding": null,
      "right": null,
      "top": null,
      "visibility": null,
      "width": null
     }
    },
    "76f14be749834854ab8cf11364d1b4e4": {
     "model_module": "@jupyter-widgets/base",
     "model_module_version": "1.2.0",
     "model_name": "LayoutModel",
     "state": {
      "_model_module": "@jupyter-widgets/base",
      "_model_module_version": "1.2.0",
      "_model_name": "LayoutModel",
      "_view_count": null,
      "_view_module": "@jupyter-widgets/base",
      "_view_module_version": "1.2.0",
      "_view_name": "LayoutView",
      "align_content": null,
      "align_items": null,
      "align_self": null,
      "border": null,
      "bottom": null,
      "display": null,
      "flex": null,
      "flex_flow": null,
      "grid_area": null,
      "grid_auto_columns": null,
      "grid_auto_flow": null,
      "grid_auto_rows": null,
      "grid_column": null,
      "grid_gap": null,
      "grid_row": null,
      "grid_template_areas": null,
      "grid_template_columns": null,
      "grid_template_rows": null,
      "height": null,
      "justify_content": null,
      "justify_items": null,
      "left": null,
      "margin": null,
      "max_height": null,
      "max_width": null,
      "min_height": null,
      "min_width": null,
      "object_fit": null,
      "object_position": null,
      "order": null,
      "overflow": null,
      "overflow_x": null,
      "overflow_y": null,
      "padding": null,
      "right": null,
      "top": null,
      "visibility": null,
      "width": null
     }
    },
    "7957adb64b534ebf852161a296ec4a63": {
     "model_module": "@jupyter-widgets/controls",
     "model_module_version": "1.5.0",
     "model_name": "HBoxModel",
     "state": {
      "_dom_classes": [],
      "_model_module": "@jupyter-widgets/controls",
      "_model_module_version": "1.5.0",
      "_model_name": "HBoxModel",
      "_view_count": null,
      "_view_module": "@jupyter-widgets/controls",
      "_view_module_version": "1.5.0",
      "_view_name": "HBoxView",
      "box_style": "",
      "children": [
       "IPY_MODEL_ebff14a16d1e46af8d5a6f107533442a",
       "IPY_MODEL_9dd3d3c45ba04fb189721fd3f0d9244a",
       "IPY_MODEL_d7677df054974b11ae1953044db7c682"
      ],
      "layout": "IPY_MODEL_154bfd3893e342258c32b0af48b0ed47"
     }
    },
    "81ec875ae8e645ee8c06716be47eef8c": {
     "model_module": "@jupyter-widgets/controls",
     "model_module_version": "1.5.0",
     "model_name": "HTMLModel",
     "state": {
      "_dom_classes": [],
      "_model_module": "@jupyter-widgets/controls",
      "_model_module_version": "1.5.0",
      "_model_name": "HTMLModel",
      "_view_count": null,
      "_view_module": "@jupyter-widgets/controls",
      "_view_module_version": "1.5.0",
      "_view_name": "HTMLView",
      "description": "",
      "description_tooltip": null,
      "layout": "IPY_MODEL_fface29e8fe84d319acd54a43c891c27",
      "placeholder": "​",
      "style": "IPY_MODEL_1227c2fb4c8e4a209765ceaf3d4577cb",
      "value": "model.safetensors: 100%"
     }
    },
    "87195e3e4e004598bf5482882677be33": {
     "model_module": "@jupyter-widgets/controls",
     "model_module_version": "1.5.0",
     "model_name": "HTMLModel",
     "state": {
      "_dom_classes": [],
      "_model_module": "@jupyter-widgets/controls",
      "_model_module_version": "1.5.0",
      "_model_name": "HTMLModel",
      "_view_count": null,
      "_view_module": "@jupyter-widgets/controls",
      "_view_module_version": "1.5.0",
      "_view_name": "HTMLView",
      "description": "",
      "description_tooltip": null,
      "layout": "IPY_MODEL_f65a998cce3a4a33b47e34d5082293bf",
      "placeholder": "​",
      "style": "IPY_MODEL_50465097e76f45afaa938c96981e08ea",
      "value": "tokenizer.json: 100%"
     }
    },
    "915cfa60547c4f3596a373f11e9fff5b": {
     "model_module": "@jupyter-widgets/base",
     "model_module_version": "1.2.0",
     "model_name": "LayoutModel",
     "state": {
      "_model_module": "@jupyter-widgets/base",
      "_model_module_version": "1.2.0",
      "_model_name": "LayoutModel",
      "_view_count": null,
      "_view_module": "@jupyter-widgets/base",
      "_view_module_version": "1.2.0",
      "_view_name": "LayoutView",
      "align_content": null,
      "align_items": null,
      "align_self": null,
      "border": null,
      "bottom": null,
      "display": null,
      "flex": null,
      "flex_flow": null,
      "grid_area": null,
      "grid_auto_columns": null,
      "grid_auto_flow": null,
      "grid_auto_rows": null,
      "grid_column": null,
      "grid_gap": null,
      "grid_row": null,
      "grid_template_areas": null,
      "grid_template_columns": null,
      "grid_template_rows": null,
      "height": null,
      "justify_content": null,
      "justify_items": null,
      "left": null,
      "margin": null,
      "max_height": null,
      "max_width": null,
      "min_height": null,
      "min_width": null,
      "object_fit": null,
      "object_position": null,
      "order": null,
      "overflow": null,
      "overflow_x": null,
      "overflow_y": null,
      "padding": null,
      "right": null,
      "top": null,
      "visibility": null,
      "width": null
     }
    },
    "9218d29a387648c59d0ba85196d4e519": {
     "model_module": "@jupyter-widgets/controls",
     "model_module_version": "1.5.0",
     "model_name": "DescriptionStyleModel",
     "state": {
      "_model_module": "@jupyter-widgets/controls",
      "_model_module_version": "1.5.0",
      "_model_name": "DescriptionStyleModel",
      "_view_count": null,
      "_view_module": "@jupyter-widgets/base",
      "_view_module_version": "1.2.0",
      "_view_name": "StyleView",
      "description_width": ""
     }
    },
    "923924fbf9ca4f01b69be8b5ab401f8d": {
     "model_module": "@jupyter-widgets/base",
     "model_module_version": "1.2.0",
     "model_name": "LayoutModel",
     "state": {
      "_model_module": "@jupyter-widgets/base",
      "_model_module_version": "1.2.0",
      "_model_name": "LayoutModel",
      "_view_count": null,
      "_view_module": "@jupyter-widgets/base",
      "_view_module_version": "1.2.0",
      "_view_name": "LayoutView",
      "align_content": null,
      "align_items": null,
      "align_self": null,
      "border": null,
      "bottom": null,
      "display": null,
      "flex": null,
      "flex_flow": null,
      "grid_area": null,
      "grid_auto_columns": null,
      "grid_auto_flow": null,
      "grid_auto_rows": null,
      "grid_column": null,
      "grid_gap": null,
      "grid_row": null,
      "grid_template_areas": null,
      "grid_template_columns": null,
      "grid_template_rows": null,
      "height": null,
      "justify_content": null,
      "justify_items": null,
      "left": null,
      "margin": null,
      "max_height": null,
      "max_width": null,
      "min_height": null,
      "min_width": null,
      "object_fit": null,
      "object_position": null,
      "order": null,
      "overflow": null,
      "overflow_x": null,
      "overflow_y": null,
      "padding": null,
      "right": null,
      "top": null,
      "visibility": null,
      "width": null
     }
    },
    "93095e0e62d242fba10b45653367292b": {
     "model_module": "@jupyter-widgets/controls",
     "model_module_version": "1.5.0",
     "model_name": "FloatProgressModel",
     "state": {
      "_dom_classes": [],
      "_model_module": "@jupyter-widgets/controls",
      "_model_module_version": "1.5.0",
      "_model_name": "FloatProgressModel",
      "_view_count": null,
      "_view_module": "@jupyter-widgets/controls",
      "_view_module_version": "1.5.0",
      "_view_name": "ProgressView",
      "bar_style": "success",
      "description": "",
      "description_tooltip": null,
      "layout": "IPY_MODEL_3768de0c6ef24f26810ade10a925132a",
      "max": 995526,
      "min": 0,
      "orientation": "horizontal",
      "style": "IPY_MODEL_152292bdd4d54bd59656f41bb1df63c1",
      "value": 995526
     }
    },
    "9dd3d3c45ba04fb189721fd3f0d9244a": {
     "model_module": "@jupyter-widgets/controls",
     "model_module_version": "1.5.0",
     "model_name": "FloatProgressModel",
     "state": {
      "_dom_classes": [],
      "_model_module": "@jupyter-widgets/controls",
      "_model_module_version": "1.5.0",
      "_model_name": "FloatProgressModel",
      "_view_count": null,
      "_view_module": "@jupyter-widgets/controls",
      "_view_module_version": "1.5.0",
      "_view_name": "ProgressView",
      "bar_style": "success",
      "description": "",
      "description_tooltip": null,
      "layout": "IPY_MODEL_6bc391b8d7bc4ddeaf2644979e3ad217",
      "max": 625,
      "min": 0,
      "orientation": "horizontal",
      "style": "IPY_MODEL_ea67b8620546411fa16b70f8a70d58b0",
      "value": 625
     }
    },
    "9fceffa60e404485b89791fad3c11107": {
     "model_module": "@jupyter-widgets/controls",
     "model_module_version": "1.5.0",
     "model_name": "ProgressStyleModel",
     "state": {
      "_model_module": "@jupyter-widgets/controls",
      "_model_module_version": "1.5.0",
      "_model_name": "ProgressStyleModel",
      "_view_count": null,
      "_view_module": "@jupyter-widgets/base",
      "_view_module_version": "1.2.0",
      "_view_name": "StyleView",
      "bar_color": null,
      "description_width": ""
     }
    },
    "a20b8dcf40e54d848859f5a8fb8fbf1a": {
     "model_module": "@jupyter-widgets/controls",
     "model_module_version": "1.5.0",
     "model_name": "DescriptionStyleModel",
     "state": {
      "_model_module": "@jupyter-widgets/controls",
      "_model_module_version": "1.5.0",
      "_model_name": "DescriptionStyleModel",
      "_view_count": null,
      "_view_module": "@jupyter-widgets/base",
      "_view_module_version": "1.2.0",
      "_view_name": "StyleView",
      "description_width": ""
     }
    },
    "afebdef08bef4218978401b219143998": {
     "model_module": "@jupyter-widgets/controls",
     "model_module_version": "1.5.0",
     "model_name": "HBoxModel",
     "state": {
      "_dom_classes": [],
      "_model_module": "@jupyter-widgets/controls",
      "_model_module_version": "1.5.0",
      "_model_name": "HBoxModel",
      "_view_count": null,
      "_view_module": "@jupyter-widgets/controls",
      "_view_module_version": "1.5.0",
      "_view_name": "HBoxView",
      "box_style": "",
      "children": [
       "IPY_MODEL_87195e3e4e004598bf5482882677be33",
       "IPY_MODEL_5041a81ac5684e66adc6b6d9e63d288b",
       "IPY_MODEL_24100595d64a4da4bc841bda45a74be3"
      ],
      "layout": "IPY_MODEL_5ba9646e94be4624be1df2bf74ca0413"
     }
    },
    "b7aa4923a0664883b973fce95f59ce07": {
     "model_module": "@jupyter-widgets/base",
     "model_module_version": "1.2.0",
     "model_name": "LayoutModel",
     "state": {
      "_model_module": "@jupyter-widgets/base",
      "_model_module_version": "1.2.0",
      "_model_name": "LayoutModel",
      "_view_count": null,
      "_view_module": "@jupyter-widgets/base",
      "_view_module_version": "1.2.0",
      "_view_name": "LayoutView",
      "align_content": null,
      "align_items": null,
      "align_self": null,
      "border": null,
      "bottom": null,
      "display": null,
      "flex": null,
      "flex_flow": null,
      "grid_area": null,
      "grid_auto_columns": null,
      "grid_auto_flow": null,
      "grid_auto_rows": null,
      "grid_column": null,
      "grid_gap": null,
      "grid_row": null,
      "grid_template_areas": null,
      "grid_template_columns": null,
      "grid_template_rows": null,
      "height": null,
      "justify_content": null,
      "justify_items": null,
      "left": null,
      "margin": null,
      "max_height": null,
      "max_width": null,
      "min_height": null,
      "min_width": null,
      "object_fit": null,
      "object_position": null,
      "order": null,
      "overflow": null,
      "overflow_x": null,
      "overflow_y": null,
      "padding": null,
      "right": null,
      "top": null,
      "visibility": null,
      "width": null
     }
    },
    "bb0566b1ac584798b83c707ec7f9a412": {
     "model_module": "@jupyter-widgets/base",
     "model_module_version": "1.2.0",
     "model_name": "LayoutModel",
     "state": {
      "_model_module": "@jupyter-widgets/base",
      "_model_module_version": "1.2.0",
      "_model_name": "LayoutModel",
      "_view_count": null,
      "_view_module": "@jupyter-widgets/base",
      "_view_module_version": "1.2.0",
      "_view_name": "LayoutView",
      "align_content": null,
      "align_items": null,
      "align_self": null,
      "border": null,
      "bottom": null,
      "display": null,
      "flex": null,
      "flex_flow": null,
      "grid_area": null,
      "grid_auto_columns": null,
      "grid_auto_flow": null,
      "grid_auto_rows": null,
      "grid_column": null,
      "grid_gap": null,
      "grid_row": null,
      "grid_template_areas": null,
      "grid_template_columns": null,
      "grid_template_rows": null,
      "height": null,
      "justify_content": null,
      "justify_items": null,
      "left": null,
      "margin": null,
      "max_height": null,
      "max_width": null,
      "min_height": null,
      "min_width": null,
      "object_fit": null,
      "object_position": null,
      "order": null,
      "overflow": null,
      "overflow_x": null,
      "overflow_y": null,
      "padding": null,
      "right": null,
      "top": null,
      "visibility": null,
      "width": null
     }
    },
    "bc605fb0bf5e4b359a7bec130bea0c2d": {
     "model_module": "@jupyter-widgets/base",
     "model_module_version": "1.2.0",
     "model_name": "LayoutModel",
     "state": {
      "_model_module": "@jupyter-widgets/base",
      "_model_module_version": "1.2.0",
      "_model_name": "LayoutModel",
      "_view_count": null,
      "_view_module": "@jupyter-widgets/base",
      "_view_module_version": "1.2.0",
      "_view_name": "LayoutView",
      "align_content": null,
      "align_items": null,
      "align_self": null,
      "border": null,
      "bottom": null,
      "display": null,
      "flex": null,
      "flex_flow": null,
      "grid_area": null,
      "grid_auto_columns": null,
      "grid_auto_flow": null,
      "grid_auto_rows": null,
      "grid_column": null,
      "grid_gap": null,
      "grid_row": null,
      "grid_template_areas": null,
      "grid_template_columns": null,
      "grid_template_rows": null,
      "height": null,
      "justify_content": null,
      "justify_items": null,
      "left": null,
      "margin": null,
      "max_height": null,
      "max_width": null,
      "min_height": null,
      "min_width": null,
      "object_fit": null,
      "object_position": null,
      "order": null,
      "overflow": null,
      "overflow_x": null,
      "overflow_y": null,
      "padding": null,
      "right": null,
      "top": null,
      "visibility": null,
      "width": null
     }
    },
    "bca4addb65a942a08f5c498316bec212": {
     "model_module": "@jupyter-widgets/controls",
     "model_module_version": "1.5.0",
     "model_name": "DescriptionStyleModel",
     "state": {
      "_model_module": "@jupyter-widgets/controls",
      "_model_module_version": "1.5.0",
      "_model_name": "DescriptionStyleModel",
      "_view_count": null,
      "_view_module": "@jupyter-widgets/base",
      "_view_module_version": "1.2.0",
      "_view_name": "StyleView",
      "description_width": ""
     }
    },
    "c44e65d70c594654a9bf6b4750850312": {
     "model_module": "@jupyter-widgets/controls",
     "model_module_version": "1.5.0",
     "model_name": "HTMLModel",
     "state": {
      "_dom_classes": [],
      "_model_module": "@jupyter-widgets/controls",
      "_model_module_version": "1.5.0",
      "_model_name": "HTMLModel",
      "_view_count": null,
      "_view_module": "@jupyter-widgets/controls",
      "_view_module_version": "1.5.0",
      "_view_name": "HTMLView",
      "description": "",
      "description_tooltip": null,
      "layout": "IPY_MODEL_efa90942dc7d4a28a97cf219ff579e33",
      "placeholder": "​",
      "style": "IPY_MODEL_f5c5b77fceec4048a3468d37638d65b9",
      "value": "vocab.txt: 100%"
     }
    },
    "c8da29a211fa47a395dfc8e5a01d1b45": {
     "model_module": "@jupyter-widgets/controls",
     "model_module_version": "1.5.0",
     "model_name": "DescriptionStyleModel",
     "state": {
      "_model_module": "@jupyter-widgets/controls",
      "_model_module_version": "1.5.0",
      "_model_name": "DescriptionStyleModel",
      "_view_count": null,
      "_view_module": "@jupyter-widgets/base",
      "_view_module_version": "1.2.0",
      "_view_name": "StyleView",
      "description_width": ""
     }
    },
    "ca9e3668c1d64233a4da00c352e97a85": {
     "model_module": "@jupyter-widgets/controls",
     "model_module_version": "1.5.0",
     "model_name": "FloatProgressModel",
     "state": {
      "_dom_classes": [],
      "_model_module": "@jupyter-widgets/controls",
      "_model_module_version": "1.5.0",
      "_model_name": "FloatProgressModel",
      "_view_count": null,
      "_view_module": "@jupyter-widgets/controls",
      "_view_module_version": "1.5.0",
      "_view_name": "ProgressView",
      "bar_style": "success",
      "description": "",
      "description_tooltip": null,
      "layout": "IPY_MODEL_50f1a34c49c54d59905197652574fdf4",
      "max": 49,
      "min": 0,
      "orientation": "horizontal",
      "style": "IPY_MODEL_9fceffa60e404485b89791fad3c11107",
      "value": 49
     }
    },
    "d5cfc95b25bb41a9813d890a36f00d94": {
     "model_module": "@jupyter-widgets/controls",
     "model_module_version": "1.5.0",
     "model_name": "ProgressStyleModel",
     "state": {
      "_model_module": "@jupyter-widgets/controls",
      "_model_module_version": "1.5.0",
      "_model_name": "ProgressStyleModel",
      "_view_count": null,
      "_view_module": "@jupyter-widgets/base",
      "_view_module_version": "1.2.0",
      "_view_name": "StyleView",
      "bar_color": null,
      "description_width": ""
     }
    },
    "d7677df054974b11ae1953044db7c682": {
     "model_module": "@jupyter-widgets/controls",
     "model_module_version": "1.5.0",
     "model_name": "HTMLModel",
     "state": {
      "_dom_classes": [],
      "_model_module": "@jupyter-widgets/controls",
      "_model_module_version": "1.5.0",
      "_model_name": "HTMLModel",
      "_view_count": null,
      "_view_module": "@jupyter-widgets/controls",
      "_view_module_version": "1.5.0",
      "_view_name": "HTMLView",
      "description": "",
      "description_tooltip": null,
      "layout": "IPY_MODEL_67ee7aab9ad145bca55168c3ac2728e9",
      "placeholder": "​",
      "style": "IPY_MODEL_9218d29a387648c59d0ba85196d4e519",
      "value": " 625/625 [00:00&lt;00:00, 37.3kB/s]"
     }
    },
    "d964462f65dc4cf996c0a546bcea9141": {
     "model_module": "@jupyter-widgets/controls",
     "model_module_version": "1.5.0",
     "model_name": "HBoxModel",
     "state": {
      "_dom_classes": [],
      "_model_module": "@jupyter-widgets/controls",
      "_model_module_version": "1.5.0",
      "_model_name": "HBoxModel",
      "_view_count": null,
      "_view_module": "@jupyter-widgets/controls",
      "_view_module_version": "1.5.0",
      "_view_name": "HBoxView",
      "box_style": "",
      "children": [
       "IPY_MODEL_81ec875ae8e645ee8c06716be47eef8c",
       "IPY_MODEL_4997d08e88ae4e6b9f28fc8c133d6ac2",
       "IPY_MODEL_faad602d6081486dbaa5c0856a0933b0"
      ],
      "layout": "IPY_MODEL_b7aa4923a0664883b973fce95f59ce07"
     }
    },
    "e2361d53bf6149e1bd019b18dbc34777": {
     "model_module": "@jupyter-widgets/controls",
     "model_module_version": "1.5.0",
     "model_name": "HTMLModel",
     "state": {
      "_dom_classes": [],
      "_model_module": "@jupyter-widgets/controls",
      "_model_module_version": "1.5.0",
      "_model_name": "HTMLModel",
      "_view_count": null,
      "_view_module": "@jupyter-widgets/controls",
      "_view_module_version": "1.5.0",
      "_view_name": "HTMLView",
      "description": "",
      "description_tooltip": null,
      "layout": "IPY_MODEL_bb0566b1ac584798b83c707ec7f9a412",
      "placeholder": "​",
      "style": "IPY_MODEL_f7059284f6fa498fbefa67192592cd2e",
      "value": " 49.0/49.0 [00:00&lt;00:00, 1.31kB/s]"
     }
    },
    "e86e72a85be54dfd9560803c0b9ff594": {
     "model_module": "@jupyter-widgets/base",
     "model_module_version": "1.2.0",
     "model_name": "LayoutModel",
     "state": {
      "_model_module": "@jupyter-widgets/base",
      "_model_module_version": "1.2.0",
      "_model_name": "LayoutModel",
      "_view_count": null,
      "_view_module": "@jupyter-widgets/base",
      "_view_module_version": "1.2.0",
      "_view_name": "LayoutView",
      "align_content": null,
      "align_items": null,
      "align_self": null,
      "border": null,
      "bottom": null,
      "display": null,
      "flex": null,
      "flex_flow": null,
      "grid_area": null,
      "grid_auto_columns": null,
      "grid_auto_flow": null,
      "grid_auto_rows": null,
      "grid_column": null,
      "grid_gap": null,
      "grid_row": null,
      "grid_template_areas": null,
      "grid_template_columns": null,
      "grid_template_rows": null,
      "height": null,
      "justify_content": null,
      "justify_items": null,
      "left": null,
      "margin": null,
      "max_height": null,
      "max_width": null,
      "min_height": null,
      "min_width": null,
      "object_fit": null,
      "object_position": null,
      "order": null,
      "overflow": null,
      "overflow_x": null,
      "overflow_y": null,
      "padding": null,
      "right": null,
      "top": null,
      "visibility": null,
      "width": null
     }
    },
    "e8924a79cf214f6bb7f4c6f90a29bab9": {
     "model_module": "@jupyter-widgets/base",
     "model_module_version": "1.2.0",
     "model_name": "LayoutModel",
     "state": {
      "_model_module": "@jupyter-widgets/base",
      "_model_module_version": "1.2.0",
      "_model_name": "LayoutModel",
      "_view_count": null,
      "_view_module": "@jupyter-widgets/base",
      "_view_module_version": "1.2.0",
      "_view_name": "LayoutView",
      "align_content": null,
      "align_items": null,
      "align_self": null,
      "border": null,
      "bottom": null,
      "display": null,
      "flex": null,
      "flex_flow": null,
      "grid_area": null,
      "grid_auto_columns": null,
      "grid_auto_flow": null,
      "grid_auto_rows": null,
      "grid_column": null,
      "grid_gap": null,
      "grid_row": null,
      "grid_template_areas": null,
      "grid_template_columns": null,
      "grid_template_rows": null,
      "height": null,
      "justify_content": null,
      "justify_items": null,
      "left": null,
      "margin": null,
      "max_height": null,
      "max_width": null,
      "min_height": null,
      "min_width": null,
      "object_fit": null,
      "object_position": null,
      "order": null,
      "overflow": null,
      "overflow_x": null,
      "overflow_y": null,
      "padding": null,
      "right": null,
      "top": null,
      "visibility": null,
      "width": null
     }
    },
    "ea67b8620546411fa16b70f8a70d58b0": {
     "model_module": "@jupyter-widgets/controls",
     "model_module_version": "1.5.0",
     "model_name": "ProgressStyleModel",
     "state": {
      "_model_module": "@jupyter-widgets/controls",
      "_model_module_version": "1.5.0",
      "_model_name": "ProgressStyleModel",
      "_view_count": null,
      "_view_module": "@jupyter-widgets/base",
      "_view_module_version": "1.2.0",
      "_view_name": "StyleView",
      "bar_color": null,
      "description_width": ""
     }
    },
    "ebff14a16d1e46af8d5a6f107533442a": {
     "model_module": "@jupyter-widgets/controls",
     "model_module_version": "1.5.0",
     "model_name": "HTMLModel",
     "state": {
      "_dom_classes": [],
      "_model_module": "@jupyter-widgets/controls",
      "_model_module_version": "1.5.0",
      "_model_name": "HTMLModel",
      "_view_count": null,
      "_view_module": "@jupyter-widgets/controls",
      "_view_module_version": "1.5.0",
      "_view_name": "HTMLView",
      "description": "",
      "description_tooltip": null,
      "layout": "IPY_MODEL_915cfa60547c4f3596a373f11e9fff5b",
      "placeholder": "​",
      "style": "IPY_MODEL_bca4addb65a942a08f5c498316bec212",
      "value": "config.json: 100%"
     }
    },
    "efa90942dc7d4a28a97cf219ff579e33": {
     "model_module": "@jupyter-widgets/base",
     "model_module_version": "1.2.0",
     "model_name": "LayoutModel",
     "state": {
      "_model_module": "@jupyter-widgets/base",
      "_model_module_version": "1.2.0",
      "_model_name": "LayoutModel",
      "_view_count": null,
      "_view_module": "@jupyter-widgets/base",
      "_view_module_version": "1.2.0",
      "_view_name": "LayoutView",
      "align_content": null,
      "align_items": null,
      "align_self": null,
      "border": null,
      "bottom": null,
      "display": null,
      "flex": null,
      "flex_flow": null,
      "grid_area": null,
      "grid_auto_columns": null,
      "grid_auto_flow": null,
      "grid_auto_rows": null,
      "grid_column": null,
      "grid_gap": null,
      "grid_row": null,
      "grid_template_areas": null,
      "grid_template_columns": null,
      "grid_template_rows": null,
      "height": null,
      "justify_content": null,
      "justify_items": null,
      "left": null,
      "margin": null,
      "max_height": null,
      "max_width": null,
      "min_height": null,
      "min_width": null,
      "object_fit": null,
      "object_position": null,
      "order": null,
      "overflow": null,
      "overflow_x": null,
      "overflow_y": null,
      "padding": null,
      "right": null,
      "top": null,
      "visibility": null,
      "width": null
     }
    },
    "f5c5b77fceec4048a3468d37638d65b9": {
     "model_module": "@jupyter-widgets/controls",
     "model_module_version": "1.5.0",
     "model_name": "DescriptionStyleModel",
     "state": {
      "_model_module": "@jupyter-widgets/controls",
      "_model_module_version": "1.5.0",
      "_model_name": "DescriptionStyleModel",
      "_view_count": null,
      "_view_module": "@jupyter-widgets/base",
      "_view_module_version": "1.2.0",
      "_view_name": "StyleView",
      "description_width": ""
     }
    },
    "f65a998cce3a4a33b47e34d5082293bf": {
     "model_module": "@jupyter-widgets/base",
     "model_module_version": "1.2.0",
     "model_name": "LayoutModel",
     "state": {
      "_model_module": "@jupyter-widgets/base",
      "_model_module_version": "1.2.0",
      "_model_name": "LayoutModel",
      "_view_count": null,
      "_view_module": "@jupyter-widgets/base",
      "_view_module_version": "1.2.0",
      "_view_name": "LayoutView",
      "align_content": null,
      "align_items": null,
      "align_self": null,
      "border": null,
      "bottom": null,
      "display": null,
      "flex": null,
      "flex_flow": null,
      "grid_area": null,
      "grid_auto_columns": null,
      "grid_auto_flow": null,
      "grid_auto_rows": null,
      "grid_column": null,
      "grid_gap": null,
      "grid_row": null,
      "grid_template_areas": null,
      "grid_template_columns": null,
      "grid_template_rows": null,
      "height": null,
      "justify_content": null,
      "justify_items": null,
      "left": null,
      "margin": null,
      "max_height": null,
      "max_width": null,
      "min_height": null,
      "min_width": null,
      "object_fit": null,
      "object_position": null,
      "order": null,
      "overflow": null,
      "overflow_x": null,
      "overflow_y": null,
      "padding": null,
      "right": null,
      "top": null,
      "visibility": null,
      "width": null
     }
    },
    "f7059284f6fa498fbefa67192592cd2e": {
     "model_module": "@jupyter-widgets/controls",
     "model_module_version": "1.5.0",
     "model_name": "DescriptionStyleModel",
     "state": {
      "_model_module": "@jupyter-widgets/controls",
      "_model_module_version": "1.5.0",
      "_model_name": "DescriptionStyleModel",
      "_view_count": null,
      "_view_module": "@jupyter-widgets/base",
      "_view_module_version": "1.2.0",
      "_view_name": "StyleView",
      "description_width": ""
     }
    },
    "faad602d6081486dbaa5c0856a0933b0": {
     "model_module": "@jupyter-widgets/controls",
     "model_module_version": "1.5.0",
     "model_name": "HTMLModel",
     "state": {
      "_dom_classes": [],
      "_model_module": "@jupyter-widgets/controls",
      "_model_module_version": "1.5.0",
      "_model_name": "HTMLModel",
      "_view_count": null,
      "_view_module": "@jupyter-widgets/controls",
      "_view_module_version": "1.5.0",
      "_view_name": "HTMLView",
      "description": "",
      "description_tooltip": null,
      "layout": "IPY_MODEL_04ad4790c0f8485ca42bd2e8e5d468ba",
      "placeholder": "​",
      "style": "IPY_MODEL_24fa38ac37a947cd82f8f9d55375359a",
      "value": " 714M/714M [00:12&lt;00:00, 65.7MB/s]"
     }
    },
    "fc8f07bd2b494be9b8544c8674065669": {
     "model_module": "@jupyter-widgets/controls",
     "model_module_version": "1.5.0",
     "model_name": "HBoxModel",
     "state": {
      "_dom_classes": [],
      "_model_module": "@jupyter-widgets/controls",
      "_model_module_version": "1.5.0",
      "_model_name": "HBoxModel",
      "_view_count": null,
      "_view_module": "@jupyter-widgets/controls",
      "_view_module_version": "1.5.0",
      "_view_name": "HBoxView",
      "box_style": "",
      "children": [
       "IPY_MODEL_0cefb53940ab42d296d1742d522f3d3a",
       "IPY_MODEL_ca9e3668c1d64233a4da00c352e97a85",
       "IPY_MODEL_e2361d53bf6149e1bd019b18dbc34777"
      ],
      "layout": "IPY_MODEL_e8924a79cf214f6bb7f4c6f90a29bab9"
     }
    },
    "fface29e8fe84d319acd54a43c891c27": {
     "model_module": "@jupyter-widgets/base",
     "model_module_version": "1.2.0",
     "model_name": "LayoutModel",
     "state": {
      "_model_module": "@jupyter-widgets/base",
      "_model_module_version": "1.2.0",
      "_model_name": "LayoutModel",
      "_view_count": null,
      "_view_module": "@jupyter-widgets/base",
      "_view_module_version": "1.2.0",
      "_view_name": "LayoutView",
      "align_content": null,
      "align_items": null,
      "align_self": null,
      "border": null,
      "bottom": null,
      "display": null,
      "flex": null,
      "flex_flow": null,
      "grid_area": null,
      "grid_auto_columns": null,
      "grid_auto_flow": null,
      "grid_auto_rows": null,
      "grid_column": null,
      "grid_gap": null,
      "grid_row": null,
      "grid_template_areas": null,
      "grid_template_columns": null,
      "grid_template_rows": null,
      "height": null,
      "justify_content": null,
      "justify_items": null,
      "left": null,
      "margin": null,
      "max_height": null,
      "max_width": null,
      "min_height": null,
      "min_width": null,
      "object_fit": null,
      "object_position": null,
      "order": null,
      "overflow": null,
      "overflow_x": null,
      "overflow_y": null,
      "padding": null,
      "right": null,
      "top": null,
      "visibility": null,
      "width": null
     }
    }
   }
  }
 },
 "nbformat": 4,
 "nbformat_minor": 5
}
