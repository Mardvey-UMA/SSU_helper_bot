{
 "cells": [
  {
   "cell_type": "code",
   "execution_count": 2,
   "id": "9e26f86e-56b4-4375-b3aa-b04096d033a7",
   "metadata": {
    "execution": {
     "iopub.execute_input": "2024-05-25T18:57:57.832785Z",
     "iopub.status.busy": "2024-05-25T18:57:57.831999Z",
     "iopub.status.idle": "2024-05-25T18:57:57.861409Z",
     "shell.execute_reply": "2024-05-25T18:57:57.860723Z",
     "shell.execute_reply.started": "2024-05-25T18:57:57.832749Z"
    },
    "tags": []
   },
   "outputs": [],
   "source": [
    "import torch\n",
    "from transformers import BertTokenizer, BertForSequenceClassification, BertConfig"
   ]
  },
  {
   "cell_type": "code",
   "execution_count": 3,
   "id": "6f526961-7309-4f88-a466-441d7b63fac6",
   "metadata": {
    "execution": {
     "iopub.execute_input": "2024-05-25T18:57:57.863396Z",
     "iopub.status.busy": "2024-05-25T18:57:57.862466Z",
     "iopub.status.idle": "2024-05-25T18:57:57.896059Z",
     "shell.execute_reply": "2024-05-25T18:57:57.895393Z",
     "shell.execute_reply.started": "2024-05-25T18:57:57.863358Z"
    },
    "tags": []
   },
   "outputs": [],
   "source": [
    "import re\n",
    "def preprocess_text(text):\n",
    "    # Приведение текста к нижнему регистру\n",
    "    text = text.lower()\n",
    "    # Удаление всех цифр\n",
    "    text = re.sub(r'\\d+', '', text)\n",
    "    # Удаление всех знаков препинания и специальных символов\n",
    "    text = re.sub(r'[^\\w\\s]', '', text)\n",
    "    # Удаление лишних пробелов\n",
    "    text = re.sub(r'\\s+', ' ', text).strip()\n",
    "    return text"
   ]
  },
  {
   "cell_type": "code",
   "execution_count": 4,
   "id": "7a45164e-7e9d-41f7-9838-f0c572fb8625",
   "metadata": {
    "execution": {
     "iopub.execute_input": "2024-05-25T18:57:57.899018Z",
     "iopub.status.busy": "2024-05-25T18:57:57.898018Z",
     "iopub.status.idle": "2024-05-25T18:57:57.913445Z",
     "shell.execute_reply": "2024-05-25T18:57:57.912633Z",
     "shell.execute_reply.started": "2024-05-25T18:57:57.898981Z"
    },
    "tags": []
   },
   "outputs": [],
   "source": [
    "# Путь к сохраненным файлам модели\n",
    "model_path = '/home/jupyter/datasphere/project/best_model_bert_with_preprocess2'"
   ]
  },
  {
   "cell_type": "code",
   "execution_count": 5,
   "id": "d1a9c680-f9d4-4403-9110-d1e60d09f844",
   "metadata": {
    "execution": {
     "iopub.execute_input": "2024-05-25T18:57:57.915681Z",
     "iopub.status.busy": "2024-05-25T18:57:57.914611Z",
     "iopub.status.idle": "2024-05-25T18:57:57.942470Z",
     "shell.execute_reply": "2024-05-25T18:57:57.941703Z",
     "shell.execute_reply.started": "2024-05-25T18:57:57.915644Z"
    },
    "tags": []
   },
   "outputs": [],
   "source": [
    "# Загрузка конфигурации модели\n",
    "config = BertConfig.from_pretrained(model_path + '/config.json')"
   ]
  },
  {
   "cell_type": "code",
   "execution_count": 6,
   "id": "aff2942f-69be-43e7-b9b0-51623b00d070",
   "metadata": {
    "execution": {
     "iopub.execute_input": "2024-05-25T18:57:57.944574Z",
     "iopub.status.busy": "2024-05-25T18:57:57.943457Z",
     "iopub.status.idle": "2024-05-25T18:58:00.978056Z",
     "shell.execute_reply": "2024-05-25T18:58:00.977168Z",
     "shell.execute_reply.started": "2024-05-25T18:57:57.944506Z"
    },
    "tags": []
   },
   "outputs": [],
   "source": [
    "model = BertForSequenceClassification.from_pretrained(\n",
    "    model_path + '/model.safetensors',\n",
    "    config=config\n",
    ")"
   ]
  },
  {
   "cell_type": "code",
   "execution_count": 7,
   "id": "d7521bfc-5198-44e7-af37-8c435a0e8a15",
   "metadata": {
    "execution": {
     "iopub.execute_input": "2024-05-25T18:58:00.980315Z",
     "iopub.status.busy": "2024-05-25T18:58:00.979164Z",
     "iopub.status.idle": "2024-05-25T18:58:01.188359Z",
     "shell.execute_reply": "2024-05-25T18:58:01.187523Z",
     "shell.execute_reply.started": "2024-05-25T18:58:00.980278Z"
    },
    "tags": []
   },
   "outputs": [],
   "source": [
    "# Загрузка токенизатора\n",
    "tokenizer = BertTokenizer.from_pretrained(model_path)"
   ]
  },
  {
   "cell_type": "code",
   "execution_count": 8,
   "id": "35448bb8-6f62-40f7-8052-4da8e580454b",
   "metadata": {
    "execution": {
     "iopub.execute_input": "2024-05-25T18:58:01.192470Z",
     "iopub.status.busy": "2024-05-25T18:58:01.189416Z",
     "iopub.status.idle": "2024-05-25T18:58:01.227235Z",
     "shell.execute_reply": "2024-05-25T18:58:01.226370Z",
     "shell.execute_reply.started": "2024-05-25T18:58:01.192439Z"
    }
   },
   "outputs": [
    {
     "data": {
      "text/plain": [
       "BertForSequenceClassification(\n",
       "  (bert): BertModel(\n",
       "    (embeddings): BertEmbeddings(\n",
       "      (word_embeddings): Embedding(119547, 768, padding_idx=0)\n",
       "      (position_embeddings): Embedding(512, 768)\n",
       "      (token_type_embeddings): Embedding(2, 768)\n",
       "      (LayerNorm): LayerNorm((768,), eps=1e-12, elementwise_affine=True)\n",
       "      (dropout): Dropout(p=0.1, inplace=False)\n",
       "    )\n",
       "    (encoder): BertEncoder(\n",
       "      (layer): ModuleList(\n",
       "        (0-11): 12 x BertLayer(\n",
       "          (attention): BertAttention(\n",
       "            (self): BertSdpaSelfAttention(\n",
       "              (query): Linear(in_features=768, out_features=768, bias=True)\n",
       "              (key): Linear(in_features=768, out_features=768, bias=True)\n",
       "              (value): Linear(in_features=768, out_features=768, bias=True)\n",
       "              (dropout): Dropout(p=0.1, inplace=False)\n",
       "            )\n",
       "            (output): BertSelfOutput(\n",
       "              (dense): Linear(in_features=768, out_features=768, bias=True)\n",
       "              (LayerNorm): LayerNorm((768,), eps=1e-12, elementwise_affine=True)\n",
       "              (dropout): Dropout(p=0.1, inplace=False)\n",
       "            )\n",
       "          )\n",
       "          (intermediate): BertIntermediate(\n",
       "            (dense): Linear(in_features=768, out_features=3072, bias=True)\n",
       "            (intermediate_act_fn): GELUActivation()\n",
       "          )\n",
       "          (output): BertOutput(\n",
       "            (dense): Linear(in_features=3072, out_features=768, bias=True)\n",
       "            (LayerNorm): LayerNorm((768,), eps=1e-12, elementwise_affine=True)\n",
       "            (dropout): Dropout(p=0.1, inplace=False)\n",
       "          )\n",
       "        )\n",
       "      )\n",
       "    )\n",
       "    (pooler): BertPooler(\n",
       "      (dense): Linear(in_features=768, out_features=768, bias=True)\n",
       "      (activation): Tanh()\n",
       "    )\n",
       "  )\n",
       "  (dropout): Dropout(p=0.1, inplace=False)\n",
       "  (classifier): Linear(in_features=768, out_features=10, bias=True)\n",
       ")"
      ]
     },
     "execution_count": 8,
     "metadata": {},
     "output_type": "execute_result"
    }
   ],
   "source": [
    "# Перевод модели в режим оценки\n",
    "model.eval()"
   ]
  },
  {
   "cell_type": "code",
   "execution_count": 9,
   "id": "fc3c8b17-1406-4332-a356-6cf995dca4a7",
   "metadata": {
    "execution": {
     "iopub.execute_input": "2024-05-25T18:58:01.229492Z",
     "iopub.status.busy": "2024-05-25T18:58:01.228443Z",
     "iopub.status.idle": "2024-05-25T18:58:01.278742Z",
     "shell.execute_reply": "2024-05-25T18:58:01.277743Z",
     "shell.execute_reply.started": "2024-05-25T18:58:01.229454Z"
    }
   },
   "outputs": [],
   "source": [
    "# Функция для предсказания\n",
    "def predict(text, tokenizer, model):\n",
    "    # Токенизация текста\n",
    "    inputs = tokenizer(text, return_tensors='pt', padding=True, truncation=True, max_length=128)\n",
    "    \n",
    "    # Применение модели\n",
    "    with torch.no_grad():\n",
    "        outputs = model(**inputs)\n",
    "    \n",
    "    # Вероятности классов\n",
    "    probabilities = torch.nn.functional.softmax(outputs.logits, dim=-1)\n",
    "    \n",
    "    return probabilities.numpy()\n"
   ]
  },
  {
   "cell_type": "code",
   "execution_count": 57,
   "id": "9a09c4b0-4e42-433f-9a88-a928af713f3a",
   "metadata": {
    "execution": {
     "iopub.execute_input": "2024-05-25T19:14:55.936663Z",
     "iopub.status.busy": "2024-05-25T19:14:55.935488Z",
     "iopub.status.idle": "2024-05-25T19:14:55.950571Z",
     "shell.execute_reply": "2024-05-25T19:14:55.949647Z",
     "shell.execute_reply.started": "2024-05-25T19:14:55.936620Z"
    },
    "tags": []
   },
   "outputs": [],
   "source": [
    "# Пример текста для предсказания\n",
    "text = \"няшка няшная жизнь общажная\"\n",
    "text = preprocess_text(text)"
   ]
  },
  {
   "cell_type": "code",
   "execution_count": 58,
   "id": "aae04506-2dd5-4dbc-ac69-42624f0977f6",
   "metadata": {
    "execution": {
     "iopub.execute_input": "2024-05-25T19:14:57.020729Z",
     "iopub.status.busy": "2024-05-25T19:14:57.019717Z",
     "iopub.status.idle": "2024-05-25T19:14:57.111953Z",
     "shell.execute_reply": "2024-05-25T19:14:57.111221Z",
     "shell.execute_reply.started": "2024-05-25T19:14:57.020686Z"
    },
    "tags": []
   },
   "outputs": [],
   "source": [
    "# Получение вероятностей классов\n",
    "probabilities = predict(text, tokenizer, model)"
   ]
  },
  {
   "cell_type": "code",
   "execution_count": 59,
   "id": "64e30045-0c61-4260-ad7b-fb8e86f2182a",
   "metadata": {
    "execution": {
     "iopub.execute_input": "2024-05-25T19:14:57.940487Z",
     "iopub.status.busy": "2024-05-25T19:14:57.939565Z",
     "iopub.status.idle": "2024-05-25T19:14:57.957250Z",
     "shell.execute_reply": "2024-05-25T19:14:57.956528Z",
     "shell.execute_reply.started": "2024-05-25T19:14:57.940445Z"
    },
    "tags": []
   },
   "outputs": [
    {
     "name": "stdout",
     "output_type": "stream",
     "text": [
      "Вероятности классов: [[5.4164237e-04 9.9380505e-01 9.2245446e-04 8.8127435e-04 7.0798805e-04\n",
      "  6.5193040e-04 4.1073564e-04 7.0261210e-04 7.9134188e-04 5.8484962e-04]]\n"
     ]
    }
   ],
   "source": [
    "print(\"Вероятности классов:\", probabilities)"
   ]
  },
  {
   "cell_type": "code",
   "execution_count": 60,
   "id": "d5d79f97-6962-4a24-8671-088fae79a2d8",
   "metadata": {
    "execution": {
     "iopub.execute_input": "2024-05-25T19:14:58.785347Z",
     "iopub.status.busy": "2024-05-25T19:14:58.784576Z",
     "iopub.status.idle": "2024-05-25T19:14:58.798024Z",
     "shell.execute_reply": "2024-05-25T19:14:58.797231Z",
     "shell.execute_reply.started": "2024-05-25T19:14:58.785316Z"
    },
    "tags": []
   },
   "outputs": [
    {
     "name": "stdout",
     "output_type": "stream",
     "text": [
      "Предсказанный класс: [1]\n"
     ]
    }
   ],
   "source": [
    "# Получение класса с максимальной вероятностью\n",
    "predicted_class = probabilities.argmax(axis=-1)\n",
    "print(\"Предсказанный класс:\", predicted_class)"
   ]
  },
  {
   "cell_type": "code",
   "execution_count": 61,
   "id": "c6434495-4732-43b3-ae91-3ac282a7aa1c",
   "metadata": {
    "execution": {
     "iopub.execute_input": "2024-05-25T19:15:00.752952Z",
     "iopub.status.busy": "2024-05-25T19:15:00.751803Z",
     "iopub.status.idle": "2024-05-25T19:15:00.786283Z",
     "shell.execute_reply": "2024-05-25T19:15:00.785467Z",
     "shell.execute_reply.started": "2024-05-25T19:15:00.752905Z"
    },
    "tags": []
   },
   "outputs": [],
   "source": [
    "# Определение словарей меток\n",
    "LabelDict = {\n",
    "    0: 'statement_general',\n",
    "    1: 'dorm',\n",
    "    2: 'events',\n",
    "    3: 'finassist',\n",
    "    4: 'grade',\n",
    "    5: 'loc',\n",
    "    6: 'military',\n",
    "    7: 'holidays',\n",
    "    8: 'pay',\n",
    "    9: 'schedule',\n",
    "}"
   ]
  },
  {
   "cell_type": "code",
   "execution_count": 62,
   "id": "9a320719-537a-4e16-98ca-186ae637efd0",
   "metadata": {
    "execution": {
     "iopub.execute_input": "2024-05-25T19:15:00.991714Z",
     "iopub.status.busy": "2024-05-25T19:15:00.990649Z",
     "iopub.status.idle": "2024-05-25T19:15:01.041256Z",
     "shell.execute_reply": "2024-05-25T19:15:01.040419Z",
     "shell.execute_reply.started": "2024-05-25T19:15:00.991671Z"
    },
    "tags": []
   },
   "outputs": [
    {
     "name": "stdout",
     "output_type": "stream",
     "text": [
      "dorm\n"
     ]
    }
   ],
   "source": [
    "print(LabelDict[predicted_class[0]])"
   ]
  },
  {
   "cell_type": "code",
   "execution_count": null,
   "id": "62fabe08-bdce-425e-839f-5f25c46260cd",
   "metadata": {},
   "outputs": [],
   "source": []
  }
 ],
 "metadata": {
  "kernelspec": {
   "display_name": "DataSphere Kernel",
   "language": "python",
   "name": "python3"
  },
  "language_info": {
   "name": ""
  }
 },
 "nbformat": 4,
 "nbformat_minor": 5
}
